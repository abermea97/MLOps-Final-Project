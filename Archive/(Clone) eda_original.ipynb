{
 "cells": [
  {
   "cell_type": "code",
   "execution_count": 0,
   "metadata": {
    "application/vnd.databricks.v1+cell": {
     "cellMetadata": {
      "byteLimit": 2048000,
      "rowLimit": 10000
     },
     "inputWidgets": {},
     "nuid": "41d20ba3-c187-4dc3-8a22-cb6db4ec0ac3",
     "showTitle": false,
     "tableResultSettingsMap": {},
     "title": ""
    },
    "executionInfo": {
     "elapsed": 13529,
     "status": "ok",
     "timestamp": 1731880857096,
     "user": {
      "displayName": "Alberto Bermea Trevino",
      "userId": "18219897344377314048"
     },
     "user_tz": 360
    },
    "id": "8d07f175-f233-44f5-bd8a-d40d706d0c4d",
    "tags": []
   },
   "outputs": [],
   "source": [
    "!pip install imblearn\n",
    "\n",
    "# Importing necessary libraries\n",
    "import pandas as pd\n",
    "import matplotlib.pyplot as plt\n",
    "import seaborn as sns\n",
    "import json\n",
    "from imblearn.under_sampling import NearMiss\n",
    "from sklearn.model_selection import train_test_split\n"
   ]
  },
  {
   "cell_type": "code",
   "execution_count": 0,
   "metadata": {
    "application/vnd.databricks.v1+cell": {
     "cellMetadata": {
      "byteLimit": 2048000,
      "rowLimit": 10000
     },
     "inputWidgets": {},
     "nuid": "db10fa5c-199f-4c8b-8d41-2b97abe94c1e",
     "showTitle": false,
     "tableResultSettingsMap": {},
     "title": ""
    },
    "colab": {
     "base_uri": "https://localhost:8080/",
     "height": 256
    },
    "executionInfo": {
     "elapsed": 21750,
     "status": "ok",
     "timestamp": 1731880878840,
     "user": {
      "displayName": "Alberto Bermea Trevino",
      "userId": "18219897344377314048"
     },
     "user_tz": 360
    },
    "id": "696269c6-3abe-4d4d-a5a6-5a071dcfce29",
    "outputId": "3ad078d7-a883-41cd-a9f8-6fb7aefd332c",
    "tags": []
   },
   "outputs": [],
   "source": [
    "# Defines function to load data and returns it in a pandas df\n",
    "def load_data(path):\n",
    "    df = pd.read_csv(path, encoding=\"utf-8\")\n",
    "    print(\"Shape: \", df.shape)\n",
    "    return df"
   ]
  },
  {
   "cell_type": "code",
   "execution_count": 0,
   "metadata": {
    "application/vnd.databricks.v1+cell": {
     "cellMetadata": {
      "byteLimit": 2048000,
      "rowLimit": 10000
     },
     "inputWidgets": {},
     "nuid": "5dbbec93-1d99-45db-a396-69d6753e8719",
     "showTitle": false,
     "tableResultSettingsMap": {},
     "title": ""
    },
    "colab": {
     "base_uri": "https://localhost:8080/"
    },
    "executionInfo": {
     "elapsed": 169,
     "status": "ok",
     "timestamp": 1731880879003,
     "user": {
      "displayName": "Alberto Bermea Trevino",
      "userId": "18219897344377314048"
     },
     "user_tz": 360
    },
    "id": "e311cb11-041d-4d63-ac21-6244d2a2b867",
    "outputId": "3c37017d-143e-4c6f-b0ea-bd8e5d4bcaaf",
    "tags": []
   },
   "outputs": [],
   "source": [
    "\n",
    "# Defines function to validate data by printing out general EDA\n",
    "def validate_data(df, target_feature):\n",
    "    print(\"Pre-processed Dataframe Validation: \\n\")\n",
    "\n",
    "    # Obtaining general df info\n",
    "    print(\"\\nDataframe info:\")\n",
    "    print(df.info())\n",
    "\n",
    "    # Checking nulls per column\n",
    "    print(\"\\nNulls per Column:\")\n",
    "    print(df.isna().sum())\n",
    "\n",
    "    # Checking distribution of target feature\n",
    "    print(f\"\\nTarget Feature: {target_feature}\")\n",
    "    labels = df[target_feature].unique()\n",
    "    labels = [str(label) for label in labels]\n",
    "    df[target_feature].value_counts(1).plot(kind='barh',figsize=(10, 2)).spines[['top', 'right']].set_visible(False);\n",
    "    plt.title(f'{target_feature} Distribution (%)', fontsize=18)\n",
    "    plt.yticks(ticks=range(len(labels)), labels=labels)\n",
    "    plt.show()\n",
    "\n",
    "    # Creating a correlation matrix\n",
    "    print(\"\\nCorrelation Matrix:\")\n",
    "    corr_matrix = df.corr()\n",
    "    plt.figure(figsize=(16, 8))\n",
    "    sns.heatmap(corr_matrix, annot=True, fmt=\".2f\", cmap='coolwarm')\n",
    "    plt.title('Correlation Matrix')\n",
    "    plt.show()\n",
    "\n",
    "  # Categorizing Binary Features and plotting distribution\n",
    "    print(\"\\nBinary Feature Distribution:\")\n",
    "    bool_vars = (df.nunique()[df.nunique() == 2]\n",
    "                  .index\n",
    "                  .drop(labels=target_feature))\n",
    "    num_vars = [var for var in df.columns if var not in bool_vars and var != target_feature]\n",
    "\n",
    "    for col in bool_vars:\n",
    "        (df.groupby(target_feature)[col]\n",
    "        .value_counts(1)\n",
    "        .unstack()\n",
    "        .iloc[:,::-1]\n",
    "        .plot(kind='barh',stacked=True,figsize=(10, 2), alpha=1)\n",
    "        .spines[['top', 'right']].set_visible(False))\n",
    "        plt.legend(['Yes', \"No\"],bbox_to_anchor=(1, 1, 0, 0),shadow=False, frameon=False)\n",
    "        plt.yticks(ticks=[0,1], labels=['Non-Diabetic', 'Diabetic'])\n",
    "        plt.tight_layout()\n",
    "        plt.title(col, fontsize=18)\n",
    "        plt.show()\n",
    "\n",
    "    # Plotting numeric feature distribution\n",
    "    print(\"\\nNumeric Feature Distribution:\")\n",
    "    plt.figure(figsize=(20, 20))\n",
    "    num_rows = len(num_vars)\n",
    "\n",
    "    for index, var in enumerate(num_vars):\n",
    "        plt.subplot(num_rows, 2, index+1)\n",
    "        df[df[target_feature] == 0][var].hist(alpha=0.5, label='Diabetes=0', bins=30)\n",
    "        df[df[target_feature] == 1][var].hist(alpha=0.5, label='Diabetes=1', bins=30)\n",
    "        plt.title(var)\n",
    "        plt.xlabel(var)\n",
    "        plt.ylabel('Frequency')\n",
    "        plt.legend()\n",
    "\n",
    "    plt.tight_layout()\n",
    "    plt.show()\n",
    "\n",
    "    pass"
   ]
  },
  {
   "cell_type": "code",
   "execution_count": 0,
   "metadata": {
    "application/vnd.databricks.v1+cell": {
     "cellMetadata": {
      "byteLimit": 2048000,
      "rowLimit": 10000
     },
     "inputWidgets": {},
     "nuid": "6d0f7526-ce98-4279-9e3a-44b6f8b68553",
     "showTitle": false,
     "tableResultSettingsMap": {},
     "title": ""
    }
   },
   "outputs": [],
   "source": [
    "# Defines function to process data and returns processed dataframe\n",
    "def process_data(df, target_feature, test_size, random_state):\n",
    "    # Separate features and target\n",
    "    X = df.drop(target_feature, axis=1)\n",
    "    y = df[target_feature]\n",
    "\n",
    "    # Split the data into training and testing sets (before resampling)\n",
    "    X_train, X_test, y_train, y_test = train_test_split(\n",
    "        X, y, test_size=test_size, random_state=random_state\n",
    "    )\n",
    "\n",
    "    # Apply undersampling only to the training set\n",
    "    nm = NearMiss()\n",
    "    X_train_res, y_train_res = nm.fit_resample(X_train, y_train)\n",
    "\n",
    "    # Log before and after resampling counts\n",
    "    print(\"\\nBefore Under-Sampling, Class '1' (Train): {}\".format(sum(y_train == 1)))\n",
    "    print(\"Before Under-Sampling, Class '0' (Train): {}\".format(sum(y_train == 0)))\n",
    "    print(\"After Under-Sampling, Class '1': {}\".format(sum(y_train_res == 1)))\n",
    "    print(\"After Under-Sampling, Class '0': {}\".format(sum(y_train_res == 0)))\n",
    "\n",
    "    # Convert the training splits into DataFrames for consistency\n",
    "    train_df = pd.DataFrame(X_train_res, columns=X.columns)\n",
    "    train_df[target_feature] = y_train_res\n",
    "\n",
    "    # Testing set remains unchanged\n",
    "    test_df = pd.DataFrame(X_test, columns=X.columns)\n",
    "    test_df[target_feature] = y_test\n",
    "\n",
    "    print('\\nResampled Training Data Shape: ', train_df.shape)\n",
    "    print('Testing Data Shape (Unchanged): ', test_df.shape)\n",
    "\n",
    "    return train_df, test_df\n"
   ]
  },
  {
   "cell_type": "code",
   "execution_count": 0,
   "metadata": {
    "application/vnd.databricks.v1+cell": {
     "cellMetadata": {
      "byteLimit": 2048000,
      "rowLimit": 10000
     },
     "inputWidgets": {},
     "nuid": "6f7a31d6-a3b6-4611-a5ae-8f403498aba2",
     "showTitle": false,
     "tableResultSettingsMap": {},
     "title": ""
    }
   },
   "outputs": [],
   "source": [
    "# Main execution\n",
    "if __name__ == \"__main__\":\n",
    "    # Set up widgets for parameter passing\n",
    "    dbutils.widgets.text(\"path\", \"\")\n",
    "    dbutils.widgets.text(\"target_feature\", \"\")\n",
    "    dbutils.widgets.text(\"test_size\", \"\")\n",
    "    dbutils.widgets.text(\"random_state\", \"\")\n",
    "    \n",
    "    # Retrieve parameters\n",
    "    path = dbutils.widgets.get(\"path\")\n",
    "    target_feature = dbutils.widgets.get(\"target_feature\")\n",
    "    test_size = float(dbutils.widgets.get(\"test_size\"))\n",
    "    random_state = int(dbutils.widgets.get(\"random_state\")) \n",
    "\n",
    "    # Perform EDA and processing\n",
    "    df = load_data(path)\n",
    "    validate_data(df, target_feature)\n",
    "    train_df, test_df = process_data(df, target_feature, test_size, random_state)\n",
    "\n",
    "    # Save processed training and testing data\n",
    "    train_df_path = \"/dbfs/FileStore/tables/train_data.csv\"\n",
    "    test_df_path = \"/dbfs/FileStore/tables/test_data.csv\"\n",
    "    train_df.to_csv(train_df_path, index=False)\n",
    "    test_df.to_csv(test_df_path, index=False)\n",
    "\n",
    "    # Exit with the paths to the processed data\n",
    "    result = {\n",
    "        \"train_df_path\": train_df_path,\n",
    "        \"test_df_path\": test_df_path\n",
    "    }\n",
    "    dbutils.notebook.exit(json.dumps(result))"
   ]
  },
  {
   "cell_type": "code",
   "execution_count": 0,
   "metadata": {
    "application/vnd.databricks.v1+cell": {
     "cellMetadata": {},
     "inputWidgets": {},
     "nuid": "68873eb8-9add-4da7-9a26-a94c1bd3c376",
     "showTitle": false,
     "tableResultSettingsMap": {},
     "title": ""
    }
   },
   "outputs": [],
   "source": []
  }
 ],
 "metadata": {
  "application/vnd.databricks.v1+notebook": {
   "computePreferences": null,
   "dashboards": [],
   "environmentMetadata": null,
   "language": "python",
   "notebookMetadata": {
    "pythonIndentUnit": 4
   },
   "notebookName": "(Clone) eda_original",
   "widgets": {
    "path": {
     "currentValue": "",
     "nuid": "5ad372e8-bd13-48ce-9b54-270041862371",
     "typedWidgetInfo": {
      "autoCreated": false,
      "defaultValue": "",
      "label": null,
      "name": "path",
      "options": {
       "widgetDisplayType": "Text",
       "validationRegex": null
      },
      "parameterDataType": "String"
     },
     "widgetInfo": {
      "widgetType": "text",
      "defaultValue": "",
      "label": null,
      "name": "path",
      "options": {
       "widgetType": "text",
       "autoCreated": null,
       "validationRegex": null
      }
     }
    },
    "random_state": {
     "currentValue": "",
     "nuid": "ccd44846-6497-4a88-9f0c-3eafe8bedc47",
     "typedWidgetInfo": {
      "autoCreated": false,
      "defaultValue": "",
      "label": null,
      "name": "random_state",
      "options": {
       "widgetDisplayType": "Text",
       "validationRegex": null
      },
      "parameterDataType": "String"
     },
     "widgetInfo": {
      "widgetType": "text",
      "defaultValue": "",
      "label": null,
      "name": "random_state",
      "options": {
       "widgetType": "text",
       "autoCreated": null,
       "validationRegex": null
      }
     }
    },
    "target_feature": {
     "currentValue": "",
     "nuid": "7ab41222-7bdd-47e5-bca5-5bdaf1673650",
     "typedWidgetInfo": {
      "autoCreated": false,
      "defaultValue": "",
      "label": null,
      "name": "target_feature",
      "options": {
       "widgetDisplayType": "Text",
       "validationRegex": null
      },
      "parameterDataType": "String"
     },
     "widgetInfo": {
      "widgetType": "text",
      "defaultValue": "",
      "label": null,
      "name": "target_feature",
      "options": {
       "widgetType": "text",
       "autoCreated": null,
       "validationRegex": null
      }
     }
    },
    "test_size": {
     "currentValue": "",
     "nuid": "522326c8-18ac-4c38-89e7-793f7da9eff2",
     "typedWidgetInfo": {
      "autoCreated": false,
      "defaultValue": "",
      "label": null,
      "name": "test_size",
      "options": {
       "widgetDisplayType": "Text",
       "validationRegex": null
      },
      "parameterDataType": "String"
     },
     "widgetInfo": {
      "widgetType": "text",
      "defaultValue": "",
      "label": null,
      "name": "test_size",
      "options": {
       "widgetType": "text",
       "autoCreated": null,
       "validationRegex": null
      }
     }
    }
   }
  },
  "colab": {
   "provenance": []
  },
  "kernelspec": {
   "display_name": "Python 3 (ipykernel)",
   "language": "python",
   "name": "python3"
  },
  "language_info": {
   "name": "python"
  }
 },
 "nbformat": 4,
 "nbformat_minor": 0
}
