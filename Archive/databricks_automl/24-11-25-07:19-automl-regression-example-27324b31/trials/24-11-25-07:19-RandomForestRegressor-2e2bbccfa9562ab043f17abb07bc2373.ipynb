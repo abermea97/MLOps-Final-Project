{
 "cells": [
  {
   "cell_type": "markdown",
   "metadata": {
    "application/vnd.databricks.v1+cell": {
     "cellMetadata": {},
     "inputWidgets": {},
     "nuid": "eab8e984-97ad-480c-aee6-55890216280b",
     "showTitle": false,
     "tableResultSettingsMap": {},
     "title": ""
    }
   },
   "source": [
    "# Random Forest Regressor training\n",
    "This is an auto-generated notebook. To reproduce these results, attach this notebook to the **AutoML Cluster 3** cluster and rerun it.\n",
    "- Compare trials in the [MLflow experiment](#mlflow/experiments/4449644573598509/s?orderByKey=metrics.%60val_r2_score%60&orderByAsc=false)\n",
    "- Navigate to the parent notebook [here](#notebook/4449644573598364) (If you launched the AutoML experiment using the Experiments UI, this link isn't very useful.)\n",
    "- Clone this notebook into your project folder by selecting **File > Clone** in the notebook toolbar.\n",
    "\n",
    "Runtime Version: _9.1.x-cpu-ml-scala2.12_"
   ]
  },
  {
   "cell_type": "code",
   "execution_count": 0,
   "metadata": {
    "application/vnd.databricks.v1+cell": {
     "cellMetadata": {},
     "inputWidgets": {},
     "nuid": "f1c27e9c-261f-477b-809b-3f3432e94981",
     "showTitle": false,
     "tableResultSettingsMap": {},
     "title": ""
    },
    "execution": {
     "iopub.execute_input": "2024-11-25T07:27:32.582264Z",
     "iopub.status.busy": "2024-11-25T07:27:32.580416Z",
     "iopub.status.idle": "2024-11-25T07:27:33.152757Z",
     "shell.execute_reply": "2024-11-25T07:27:33.153680Z"
    }
   },
   "outputs": [],
   "source": [
    "import mlflow\n",
    "import databricks.automl_runtime\n",
    "\n",
    "# Use MLflow to track experiments\n",
    "mlflow.set_experiment(\"/Users/abermea@uchicago.edu/databricks_automl/24-11-25-07:19-automl-regression-example-27324b31/automl-regression-example-Experiment-27324b31\")\n",
    "\n",
    "target_col = \"MedHouseVal\""
   ]
  },
  {
   "cell_type": "markdown",
   "metadata": {
    "application/vnd.databricks.v1+cell": {
     "cellMetadata": {},
     "inputWidgets": {},
     "nuid": "09fc4676-5775-4106-96a6-ca69a56acff2",
     "showTitle": false,
     "tableResultSettingsMap": {},
     "title": ""
    }
   },
   "source": [
    "## Load Data"
   ]
  },
  {
   "cell_type": "code",
   "execution_count": 0,
   "metadata": {
    "application/vnd.databricks.v1+cell": {
     "cellMetadata": {},
     "inputWidgets": {},
     "nuid": "42e8fe4f-bcaa-4968-ab8e-70f48f3d0af7",
     "showTitle": false,
     "tableResultSettingsMap": {},
     "title": ""
    },
    "execution": {
     "iopub.execute_input": "2024-11-25T07:27:33.177159Z",
     "iopub.status.busy": "2024-11-25T07:27:33.176157Z",
     "iopub.status.idle": "2024-11-25T07:27:34.279594Z",
     "shell.execute_reply": "2024-11-25T07:27:34.280984Z"
    }
   },
   "outputs": [],
   "source": [
    "from mlflow.tracking import MlflowClient\n",
    "import os\n",
    "import uuid\n",
    "import shutil\n",
    "import pandas as pd\n",
    "\n",
    "# Create temp directory to download input data from MLflow\n",
    "input_temp_dir = os.path.join(os.environ[\"SPARK_LOCAL_DIRS\"], str(uuid.uuid4())[:8])\n",
    "os.makedirs(input_temp_dir)\n",
    "\n",
    "\n",
    "# Download the artifact and read it into a pandas DataFrame\n",
    "input_client = MlflowClient()\n",
    "input_data_path = input_client.download_artifacts(\"ed85f82f71ae4bf3ae37946b2169178a\", \"data\", input_temp_dir)\n",
    "\n",
    "df_loaded = pd.read_parquet(os.path.join(input_data_path, \"training_data\"))\n",
    "# Delete the temp data\n",
    "shutil.rmtree(input_temp_dir)\n",
    "\n",
    "# Preview data\n",
    "df_loaded.head(5)"
   ]
  },
  {
   "cell_type": "markdown",
   "metadata": {
    "application/vnd.databricks.v1+cell": {
     "cellMetadata": {},
     "inputWidgets": {},
     "nuid": "0bb0d5a5-d12d-47aa-b046-584241b1ea4c",
     "showTitle": false,
     "tableResultSettingsMap": {},
     "title": ""
    }
   },
   "source": [
    "## Preprocessors"
   ]
  },
  {
   "cell_type": "code",
   "execution_count": 0,
   "metadata": {
    "application/vnd.databricks.v1+cell": {
     "cellMetadata": {},
     "inputWidgets": {},
     "nuid": "e4c16d58-c84e-423f-a5cc-a38d17a1a9e5",
     "showTitle": false,
     "tableResultSettingsMap": {},
     "title": ""
    },
    "execution": {
     "iopub.execute_input": "2024-11-25T07:27:34.286924Z",
     "iopub.status.busy": "2024-11-25T07:27:34.285160Z",
     "iopub.status.idle": "2024-11-25T07:27:34.292388Z",
     "shell.execute_reply": "2024-11-25T07:27:34.293632Z"
    }
   },
   "outputs": [],
   "source": [
    "transformers = []"
   ]
  },
  {
   "cell_type": "markdown",
   "metadata": {
    "application/vnd.databricks.v1+cell": {
     "cellMetadata": {},
     "inputWidgets": {},
     "nuid": "cd043fa7-4179-436f-bbf7-7a757464d1b5",
     "showTitle": false,
     "tableResultSettingsMap": {},
     "title": ""
    }
   },
   "source": [
    "### Numerical columns\n",
    "\n",
    "Missing values for numerical columns are imputed with mean for consistency"
   ]
  },
  {
   "cell_type": "code",
   "execution_count": 0,
   "metadata": {
    "application/vnd.databricks.v1+cell": {
     "cellMetadata": {},
     "inputWidgets": {},
     "nuid": "7428a86b-f517-4f4a-b719-e155117c5947",
     "showTitle": false,
     "tableResultSettingsMap": {},
     "title": ""
    },
    "execution": {
     "iopub.execute_input": "2024-11-25T07:27:34.299585Z",
     "iopub.status.busy": "2024-11-25T07:27:34.297751Z",
     "iopub.status.idle": "2024-11-25T07:27:35.004161Z",
     "shell.execute_reply": "2024-11-25T07:27:35.005888Z"
    }
   },
   "outputs": [],
   "source": [
    "from sklearn.impute import SimpleImputer\n",
    "from sklearn.pipeline import Pipeline\n",
    "from sklearn.preprocessing import FunctionTransformer\n",
    "\n",
    "numerical_pipeline = Pipeline(steps=[\n",
    "    (\"converter\", FunctionTransformer(lambda df: df.apply(pd.to_numeric, errors=\"coerce\"))),\n",
    "    (\"imputer\", SimpleImputer(strategy=\"mean\"))\n",
    "])\n",
    "\n",
    "transformers.append((\"numerical\", numerical_pipeline, [\"AveBedrms\", \"AveOccup\", \"AveRooms\", \"HouseAge\", \"Latitude\", \"Longitude\", \"MedInc\", \"Population\"]))"
   ]
  },
  {
   "cell_type": "code",
   "execution_count": 0,
   "metadata": {
    "application/vnd.databricks.v1+cell": {
     "cellMetadata": {},
     "inputWidgets": {},
     "nuid": "36232328-b06c-40f4-8c09-ccffdfab6260",
     "showTitle": false,
     "tableResultSettingsMap": {},
     "title": ""
    },
    "execution": {
     "iopub.execute_input": "2024-11-25T07:27:35.012130Z",
     "iopub.status.busy": "2024-11-25T07:27:35.010099Z",
     "iopub.status.idle": "2024-11-25T07:27:35.019925Z",
     "shell.execute_reply": "2024-11-25T07:27:35.021339Z"
    }
   },
   "outputs": [],
   "source": [
    "from sklearn.compose import ColumnTransformer\n",
    "\n",
    "preprocessor = ColumnTransformer(transformers, remainder=\"passthrough\", sparse_threshold=0)"
   ]
  },
  {
   "cell_type": "markdown",
   "metadata": {
    "application/vnd.databricks.v1+cell": {
     "cellMetadata": {},
     "inputWidgets": {},
     "nuid": "b5d6c8d9-8dcc-4892-bcba-1ce2c1a86b8f",
     "showTitle": false,
     "tableResultSettingsMap": {},
     "title": ""
    }
   },
   "source": [
    "### Feature standardization\n",
    "Scale all feature columns to be centered around zero with unit variance."
   ]
  },
  {
   "cell_type": "code",
   "execution_count": 0,
   "metadata": {
    "application/vnd.databricks.v1+cell": {
     "cellMetadata": {},
     "inputWidgets": {},
     "nuid": "495ae272-09d6-4545-8b99-064e164d87eb",
     "showTitle": false,
     "tableResultSettingsMap": {},
     "title": ""
    },
    "execution": {
     "iopub.execute_input": "2024-11-25T07:27:35.027421Z",
     "iopub.status.busy": "2024-11-25T07:27:35.025505Z",
     "iopub.status.idle": "2024-11-25T07:27:35.032860Z",
     "shell.execute_reply": "2024-11-25T07:27:35.033977Z"
    }
   },
   "outputs": [],
   "source": [
    "from sklearn.preprocessing import StandardScaler\n",
    "\n",
    "standardizer = StandardScaler()"
   ]
  },
  {
   "cell_type": "markdown",
   "metadata": {
    "application/vnd.databricks.v1+cell": {
     "cellMetadata": {},
     "inputWidgets": {},
     "nuid": "76bd23da-d922-4524-9a63-94d216fb547c",
     "showTitle": false,
     "tableResultSettingsMap": {},
     "title": ""
    }
   },
   "source": [
    "## Training - Validation Split\n",
    "Split the input data into training and validation data"
   ]
  },
  {
   "cell_type": "code",
   "execution_count": 0,
   "metadata": {
    "application/vnd.databricks.v1+cell": {
     "cellMetadata": {},
     "inputWidgets": {},
     "nuid": "6024d940-a18f-42ca-9e16-770ee1f06dce",
     "showTitle": false,
     "tableResultSettingsMap": {},
     "title": ""
    },
    "execution": {
     "iopub.execute_input": "2024-11-25T07:27:35.039263Z",
     "iopub.status.busy": "2024-11-25T07:27:35.037609Z",
     "iopub.status.idle": "2024-11-25T07:27:35.056902Z",
     "shell.execute_reply": "2024-11-25T07:27:35.058206Z"
    }
   },
   "outputs": [],
   "source": [
    "from sklearn.model_selection import train_test_split\n",
    "\n",
    "split_X = df_loaded.drop([target_col], axis=1)\n",
    "split_y = df_loaded[target_col]\n",
    "\n",
    "X_train, X_val, y_train, y_val = train_test_split(split_X, split_y, random_state=550283884)"
   ]
  },
  {
   "cell_type": "markdown",
   "metadata": {
    "application/vnd.databricks.v1+cell": {
     "cellMetadata": {},
     "inputWidgets": {},
     "nuid": "74598532-1334-4c2a-9601-2139322233c0",
     "showTitle": false,
     "tableResultSettingsMap": {},
     "title": ""
    }
   },
   "source": [
    "## Train regression model\n",
    "- Log relevant metrics to MLflow to track runs\n",
    "- All the runs are logged under [this MLflow experiment](#mlflow/experiments/4449644573598509/s?orderByKey=metrics.%60val_r2_score%60&orderByAsc=false)\n",
    "- Change the model parameters and re-run the training cell to log a different trial to the MLflow experiment\n",
    "- To view the full list of tunable hyperparameters, check the output of the cell below"
   ]
  },
  {
   "cell_type": "code",
   "execution_count": 0,
   "metadata": {
    "application/vnd.databricks.v1+cell": {
     "cellMetadata": {},
     "inputWidgets": {},
     "nuid": "84ce645f-917c-49a6-95a1-58f2f09d6b2c",
     "showTitle": false,
     "tableResultSettingsMap": {},
     "title": ""
    },
    "execution": {
     "iopub.execute_input": "2024-11-25T07:27:35.064449Z",
     "iopub.status.busy": "2024-11-25T07:27:35.062495Z",
     "iopub.status.idle": "2024-11-25T07:27:35.101927Z",
     "shell.execute_reply": "2024-11-25T07:27:35.101145Z"
    }
   },
   "outputs": [],
   "source": [
    "from sklearn.ensemble import RandomForestRegressor\n",
    "\n",
    "help(RandomForestRegressor)"
   ]
  },
  {
   "cell_type": "code",
   "execution_count": 0,
   "metadata": {
    "application/vnd.databricks.v1+cell": {
     "cellMetadata": {},
     "inputWidgets": {},
     "nuid": "c1268ddc-7a1e-4a4f-8a46-607cb02ce76e",
     "showTitle": false,
     "tableResultSettingsMap": {},
     "title": ""
    },
    "execution": {
     "iopub.execute_input": "2024-11-25T07:27:35.109843Z",
     "iopub.status.busy": "2024-11-25T07:27:35.108973Z",
     "iopub.status.idle": "2024-11-25T07:27:35.182079Z",
     "shell.execute_reply": "2024-11-25T07:27:35.182955Z"
    }
   },
   "outputs": [],
   "source": [
    "import mlflow\n",
    "import sklearn\n",
    "from sklearn import set_config\n",
    "from sklearn.pipeline import Pipeline\n",
    "\n",
    "set_config(display='diagram')\n",
    "\n",
    "skrf_regressor = RandomForestRegressor(\n",
    "  bootstrap=False,\n",
    "  criterion=\"mae\",\n",
    "  max_features=0.5404406307135823,\n",
    "  min_samples_leaf=6,\n",
    "  min_samples_split=16,\n",
    "  random_state=550283884,\n",
    ")\n",
    "\n",
    "model = Pipeline([\n",
    "    (\"preprocessor\", preprocessor),\n",
    "    (\"standardizer\", standardizer),\n",
    "    (\"regressor\", skrf_regressor),\n",
    "])\n",
    "\n",
    "model"
   ]
  },
  {
   "cell_type": "code",
   "execution_count": 0,
   "metadata": {
    "application/vnd.databricks.v1+cell": {
     "cellMetadata": {},
     "inputWidgets": {},
     "nuid": "da21338d-7610-415e-b3de-01f5e56a117c",
     "showTitle": false,
     "tableResultSettingsMap": {},
     "title": ""
    },
    "execution": {
     "iopub.execute_input": "2024-11-25T07:27:35.187127Z",
     "iopub.status.busy": "2024-11-25T07:27:35.186308Z",
     "iopub.status.idle": "2024-11-25T07:38:27.617831Z",
     "shell.execute_reply": "2024-11-25T07:38:27.617205Z"
    }
   },
   "outputs": [],
   "source": [
    "# Enable automatic logging of input samples, metrics, parameters, and models\n",
    "mlflow.sklearn.autolog(log_input_examples=True, silent=True)\n",
    "\n",
    "with mlflow.start_run(run_name=\"random_forest_regressor\") as mlflow_run:\n",
    "    model.fit(X_train, y_train)\n",
    "    \n",
    "    # Training metrics are logged by MLflow autologging\n",
    "    # Log metrics for the validation set\n",
    "    skrf_val_metrics = mlflow.sklearn.eval_and_log_metrics(model, X_val, y_val,\n",
    "                                                                prefix=\"val_\")\n",
    "    display(pd.DataFrame(skrf_val_metrics, index=[0]))"
   ]
  },
  {
   "cell_type": "markdown",
   "metadata": {
    "application/vnd.databricks.v1+cell": {
     "cellMetadata": {},
     "inputWidgets": {},
     "nuid": "85439500-8cdd-4d2b-8d34-3c750979d183",
     "showTitle": false,
     "tableResultSettingsMap": {},
     "title": ""
    }
   },
   "source": [
    "### Patch pandas version in logged model\n",
    "\n",
    "Ensures that model serving uses the same version of pandas that was used to train the model."
   ]
  },
  {
   "cell_type": "code",
   "execution_count": 0,
   "metadata": {
    "application/vnd.databricks.v1+cell": {
     "cellMetadata": {},
     "inputWidgets": {},
     "nuid": "fc990269-c963-4078-a69f-66c1bce80864",
     "showTitle": false,
     "tableResultSettingsMap": {},
     "title": ""
    },
    "execution": {
     "iopub.execute_input": "2024-11-25T07:38:27.629469Z",
     "iopub.status.busy": "2024-11-25T07:38:27.628545Z",
     "iopub.status.idle": "2024-11-25T07:38:28.504635Z",
     "shell.execute_reply": "2024-11-25T07:38:28.505416Z"
    }
   },
   "outputs": [],
   "source": [
    "import mlflow\n",
    "import os\n",
    "import shutil\n",
    "import tempfile\n",
    "import yaml\n",
    "\n",
    "run_id = mlflow_run.info.run_id\n",
    "\n",
    "# Set up a local dir for downloading the artifacts.\n",
    "tmp_dir = str(tempfile.TemporaryDirectory())\n",
    "os.makedirs(tmp_dir)\n",
    "\n",
    "client = mlflow.tracking.MlflowClient()\n",
    "\n",
    "# Fix conda.yaml\n",
    "conda_file_path = client.download_artifacts(run_id, \"model/conda.yaml\", dst_path=tmp_dir)\n",
    "with open(conda_file_path) as f:\n",
    "  conda_libs = yaml.load(f, Loader=yaml.FullLoader)\n",
    "pandas_lib_exists = any([lib.startswith(\"pandas==\") for lib in conda_libs[\"dependencies\"][-1][\"pip\"]])\n",
    "if not pandas_lib_exists:\n",
    "  print(\"Adding pandas dependency to conda.yaml\")\n",
    "  conda_libs[\"dependencies\"][-1][\"pip\"].append(f\"pandas=={pd.__version__}\")\n",
    "\n",
    "  with open(f\"{tmp_dir}/conda.yaml\", \"w\") as f:\n",
    "    f.write(yaml.dump(conda_libs))\n",
    "  client.log_artifact(run_id=run_id, local_path=conda_file_path, artifact_path=\"model\")\n",
    "\n",
    "# Fix requirements.txt\n",
    "venv_file_path = client.download_artifacts(run_id, \"model/requirements.txt\", dst_path=tmp_dir)\n",
    "with open(venv_file_path) as f:\n",
    "  venv_libs = f.readlines()\n",
    "venv_libs = [lib.strip() for lib in venv_libs]\n",
    "pandas_lib_exists = any([lib.startswith(\"pandas==\") for lib in venv_libs])\n",
    "if not pandas_lib_exists:\n",
    "  print(\"Adding pandas dependency to requirements.txt\")\n",
    "  venv_libs.append(f\"pandas=={pd.__version__}\")\n",
    "\n",
    "  with open(f\"{tmp_dir}/requirements.txt\", \"w\") as f:\n",
    "    f.write(\"\\n\".join(venv_libs))\n",
    "  client.log_artifact(run_id=run_id, local_path=venv_file_path, artifact_path=\"model\")\n",
    "\n",
    "shutil.rmtree(tmp_dir)"
   ]
  },
  {
   "cell_type": "markdown",
   "metadata": {
    "application/vnd.databricks.v1+cell": {
     "cellMetadata": {},
     "inputWidgets": {},
     "nuid": "ee590afc-3be8-4302-a4c1-57e48c238d6b",
     "showTitle": false,
     "tableResultSettingsMap": {},
     "title": ""
    }
   },
   "source": [
    "## Feature importance\n",
    "\n",
    "SHAP is a game-theoretic approach to explain machine learning models, providing a summary plot\n",
    "of the relationship between features and model output. Features are ranked in descending order of\n",
    "importance, and impact/color describe the correlation between the feature and the target variable.\n",
    "- Generating SHAP feature importance is a very memory intensive operation, so to ensure that AutoML can run trials without\n",
    "  running out of memory, we disable SHAP by default.<br />\n",
    "  You can set the flag defined below to `shap_enabled = True` and re-run this notebook to see the SHAP plots.\n",
    "- To reduce the computational overhead of each trial, a single example is sampled from the validation set to explain.<br />\n",
    "  For more thorough results, increase the sample size of explanations, or provide your own examples to explain.\n",
    "- SHAP cannot explain models using data with nulls; if your dataset has any, both the background data and\n",
    "  examples to explain will be imputed using the mode (most frequent values). This affects the computed\n",
    "  SHAP values, as the imputed samples may not match the actual data distribution.\n",
    "\n",
    "For more information on how to read Shapley values, see the [SHAP documentation](https://shap.readthedocs.io/en/latest/example_notebooks/overviews/An%20introduction%20to%20explainable%20AI%20with%20Shapley%20values.html)."
   ]
  },
  {
   "cell_type": "code",
   "execution_count": 0,
   "metadata": {
    "application/vnd.databricks.v1+cell": {
     "cellMetadata": {},
     "inputWidgets": {},
     "nuid": "edc809ac-a053-4ea9-9411-9bb4c5592a36",
     "showTitle": false,
     "tableResultSettingsMap": {},
     "title": ""
    },
    "execution": {
     "iopub.execute_input": "2024-11-25T07:38:28.510992Z",
     "iopub.status.busy": "2024-11-25T07:38:28.510104Z",
     "iopub.status.idle": "2024-11-25T07:38:28.513431Z",
     "shell.execute_reply": "2024-11-25T07:38:28.512766Z"
    }
   },
   "outputs": [],
   "source": [
    "# Set this flag to True and re-run the notebook to see the SHAP plots\n",
    "shap_enabled = False"
   ]
  },
  {
   "cell_type": "code",
   "execution_count": 0,
   "metadata": {
    "application/vnd.databricks.v1+cell": {
     "cellMetadata": {},
     "inputWidgets": {},
     "nuid": "95e276c0-a608-4528-894d-1194db3159c1",
     "showTitle": false,
     "tableResultSettingsMap": {},
     "title": ""
    },
    "execution": {
     "iopub.execute_input": "2024-11-25T07:38:28.519583Z",
     "iopub.status.busy": "2024-11-25T07:38:28.518902Z",
     "iopub.status.idle": "2024-11-25T07:38:28.522057Z",
     "shell.execute_reply": "2024-11-25T07:38:28.521566Z"
    }
   },
   "outputs": [],
   "source": [
    "if shap_enabled:\n",
    "    mlflow.autolog(disable=True)\n",
    "    mlflow.sklearn.autolog(disable=True)\n",
    "    from shap import KernelExplainer, summary_plot\n",
    "    # Sample background data for SHAP Explainer. Increase the sample size to reduce variance.\n",
    "    train_sample = X_train.sample(n=min(100, len(X_train.index)))\n",
    "\n",
    "    # Sample a single example from the validation set to explain. Increase the sample size and rerun for more thorough results.\n",
    "    example = X_val.sample(n=1)\n",
    "\n",
    "    # Use Kernel SHAP to explain feature importance on the example from the validation set.\n",
    "    predict = lambda x: model.predict(pd.DataFrame(x, columns=X_train.columns))\n",
    "    explainer = KernelExplainer(predict, train_sample, link=\"identity\")\n",
    "    shap_values = explainer.shap_values(example, l1_reg=False, nsamples=500)\n",
    "    summary_plot(shap_values, example)"
   ]
  },
  {
   "cell_type": "markdown",
   "metadata": {
    "application/vnd.databricks.v1+cell": {
     "cellMetadata": {},
     "inputWidgets": {},
     "nuid": "d32691ab-5335-458c-ab28-4cf7b9734001",
     "showTitle": false,
     "tableResultSettingsMap": {},
     "title": ""
    }
   },
   "source": [
    "## Inference\n",
    "[The MLflow Model Registry](https://docs.databricks.com/applications/mlflow/model-registry.html) is a collaborative hub where teams can share ML models, work together from experimentation to online testing and production, integrate with approval and governance workflows, and monitor ML deployments and their performance. The snippets below show how to add the model trained in this notebook to the model registry and to retrieve it later for inference.\n",
    "\n",
    "> **NOTE:** The `model_uri` for the model already trained in this notebook can be found in the cell below\n",
    "\n",
    "### Register to Model Registry\n",
    "```\n",
    "model_name = \"Example\"\n",
    "\n",
    "model_uri = f\"runs:/{ mlflow_run.info.run_id }/model\"\n",
    "registered_model_version = mlflow.register_model(model_uri, model_name)\n",
    "```\n",
    "\n",
    "### Load from Model Registry\n",
    "```\n",
    "model_name = \"Example\"\n",
    "model_version = registered_model_version.version\n",
    "\n",
    "model = mlflow.pyfunc.load_model(model_uri=f\"models:/{model_name}/{model_version}\")\n",
    "model.predict(input_X)\n",
    "```\n",
    "\n",
    "### Load model without registering\n",
    "```\n",
    "model_uri = f\"runs:/{ mlflow_run.info.run_id }/model\"\n",
    "\n",
    "model = mlflow.pyfunc.load_model(model_uri)\n",
    "model.predict(input_X)\n",
    "```"
   ]
  },
  {
   "cell_type": "code",
   "execution_count": 0,
   "metadata": {
    "application/vnd.databricks.v1+cell": {
     "cellMetadata": {},
     "inputWidgets": {},
     "nuid": "6025e09d-0dbb-481f-b786-ea9ca1e53610",
     "showTitle": false,
     "tableResultSettingsMap": {},
     "title": ""
    },
    "execution": {
     "iopub.execute_input": "2024-11-25T07:38:28.527498Z",
     "iopub.status.busy": "2024-11-25T07:38:28.526666Z",
     "iopub.status.idle": "2024-11-25T07:38:28.530923Z",
     "shell.execute_reply": "2024-11-25T07:38:28.531671Z"
    }
   },
   "outputs": [],
   "source": [
    "# model_uri for the generated model\n",
    "print(f\"runs:/{ mlflow_run.info.run_id }/model\")"
   ]
  }
 ],
 "metadata": {
  "application/vnd.databricks.v1+notebook": {
   "computePreferences": null,
   "dashboards": [],
   "environmentMetadata": null,
   "language": "python",
   "notebookMetadata": {
    "pythonIndentUnit": 4
   },
   "notebookName": "24-11-25-07:19-RandomForestRegressor-2e2bbccfa9562ab043f17abb07bc2373",
   "widgets": {}
  },
  "language_info": {
   "name": "python"
  },
  "name": "RandomForestRegressor-2e2bbccfa9562ab043f17abb07bc2373"
 },
 "nbformat": 4,
 "nbformat_minor": 0
}
