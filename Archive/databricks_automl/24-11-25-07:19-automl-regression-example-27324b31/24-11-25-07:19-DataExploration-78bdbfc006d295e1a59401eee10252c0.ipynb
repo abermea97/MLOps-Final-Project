{
 "cells": [
  {
   "cell_type": "markdown",
   "metadata": {
    "application/vnd.databricks.v1+cell": {
     "cellMetadata": {},
     "inputWidgets": {},
     "nuid": "e7fa0b7c-ea3b-430f-b871-600d86afd611",
     "showTitle": false,
     "tableResultSettingsMap": {},
     "title": ""
    }
   },
   "source": [
    "# Data Exploration\n",
    "This notebook performs exploratory data analysis on the dataset.\n",
    "To expand on the analysis, attach this notebook to the **AutoML Cluster 3** cluster,\n",
    "edit [the options of pandas-profiling](https://pandas-profiling.github.io/pandas-profiling/docs/master/rtd/pages/advanced_usage.html), and rerun it.\n",
    "- Explore completed trials in the [MLflow experiment](#mlflow/experiments/4449644573598509/s?orderByKey=metrics.%60val_r2_score%60&orderByAsc=false)\n",
    "- Navigate to the parent notebook [here](#notebook/4449644573598364) (If you launched the AutoML experiment using the Experiments UI, this link isn't very useful.)\n",
    "\n",
    "Runtime Version: _9.1.x-cpu-ml-scala2.12_"
   ]
  },
  {
   "cell_type": "code",
   "execution_count": 0,
   "metadata": {
    "application/vnd.databricks.v1+cell": {
     "cellMetadata": {},
     "inputWidgets": {},
     "nuid": "639c8a4d-bebf-4fb1-8026-dc85d0bb6dd6",
     "showTitle": false,
     "tableResultSettingsMap": {},
     "title": ""
    },
    "execution": {
     "iopub.execute_input": "2024-11-25T07:19:45.234273Z",
     "iopub.status.busy": "2024-11-25T07:19:45.233516Z",
     "iopub.status.idle": "2024-11-25T07:19:46.420673Z",
     "shell.execute_reply": "2024-11-25T07:19:46.419991Z"
    }
   },
   "outputs": [],
   "source": [
    "import os\n",
    "import uuid\n",
    "import shutil\n",
    "import pandas as pd\n",
    "import databricks.automl_runtime\n",
    "\n",
    "from mlflow.tracking import MlflowClient\n",
    "\n",
    "# Download input data from mlflow into a pandas DataFrame\n",
    "# create temp directory to download data\n",
    "temp_dir = os.path.join(os.environ[\"SPARK_LOCAL_DIRS\"], str(uuid.uuid4())[:8])\n",
    "os.makedirs(temp_dir)\n",
    "\n",
    "# download the artifact and read it\n",
    "client = MlflowClient()\n",
    "training_data_path = client.download_artifacts(\"ed85f82f71ae4bf3ae37946b2169178a\", \"data\", temp_dir)\n",
    "df = pd.read_parquet(os.path.join(training_data_path, \"training_data\"))\n",
    "\n",
    "# delete the temp data\n",
    "shutil.rmtree(temp_dir)\n",
    "\n",
    "target_col = \"MedHouseVal\""
   ]
  },
  {
   "cell_type": "markdown",
   "metadata": {
    "application/vnd.databricks.v1+cell": {
     "cellMetadata": {},
     "inputWidgets": {},
     "nuid": "829fa649-b06d-46af-94a4-2bbd11d19baa",
     "showTitle": false,
     "tableResultSettingsMap": {},
     "title": ""
    }
   },
   "source": [
    "## Profiling Results"
   ]
  },
  {
   "cell_type": "code",
   "execution_count": 0,
   "metadata": {
    "application/vnd.databricks.v1+cell": {
     "cellMetadata": {},
     "inputWidgets": {},
     "nuid": "c9eec390-d947-495a-93b0-6294bebb5b70",
     "showTitle": false,
     "tableResultSettingsMap": {},
     "title": ""
    },
    "execution": {
     "iopub.execute_input": "2024-11-25T07:19:46.426720Z",
     "iopub.status.busy": "2024-11-25T07:19:46.426035Z",
     "iopub.status.idle": "2024-11-25T07:20:17.613913Z",
     "shell.execute_reply": "2024-11-25T07:20:17.614477Z"
    },
    "large_display_output": true
   },
   "outputs": [],
   "source": [
    "from pandas_profiling import ProfileReport\n",
    "df_profile = ProfileReport(df, title=\"Profiling Report\", progress_bar=False, infer_dtypes=False)\n",
    "profile_html = df_profile.to_html()\n",
    "\n",
    "displayHTML(profile_html)"
   ]
  }
 ],
 "metadata": {
  "application/vnd.databricks.v1+notebook": {
   "computePreferences": null,
   "dashboards": [],
   "environmentMetadata": null,
   "language": "python",
   "notebookMetadata": {
    "pythonIndentUnit": 4
   },
   "notebookName": "24-11-25-07:19-DataExploration-78bdbfc006d295e1a59401eee10252c0",
   "widgets": {}
  },
  "language_info": {
   "name": "python"
  },
  "name": "DataExploration-78bdbfc006d295e1a59401eee10252c0"
 },
 "nbformat": 4,
 "nbformat_minor": 0
}
