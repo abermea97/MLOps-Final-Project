{
 "cells": [
  {
   "cell_type": "markdown",
   "metadata": {
    "application/vnd.databricks.v1+cell": {
     "cellMetadata": {},
     "inputWidgets": {},
     "nuid": "99ec0309-22da-48eb-b291-3ed7f4e39e2f",
     "showTitle": false,
     "tableResultSettingsMap": {},
     "title": ""
    }
   },
   "source": [
    "# Data Exploration\n",
    "This notebook performs exploratory data analysis on the dataset.\n",
    "To expand on the analysis, attach this notebook to the **AutoML Cluster 3** cluster,\n",
    "edit [the options of pandas-profiling](https://pandas-profiling.github.io/pandas-profiling/docs/master/rtd/pages/advanced_usage.html), and rerun it.\n",
    "- Explore completed trials in the [MLflow experiment](#mlflow/experiments/3655579611970786/s?orderByKey=metrics.%60val_f1_score%60&orderByAsc=false)\n",
    "- Navigate to the parent notebook [here](#notebook/3655579611970663) (If you launched the AutoML experiment using the Experiments UI, this link isn't very useful.)\n",
    "\n",
    "Runtime Version: _9.1.x-cpu-ml-scala2.12_"
   ]
  },
  {
   "cell_type": "code",
   "execution_count": 0,
   "metadata": {
    "application/vnd.databricks.v1+cell": {
     "cellMetadata": {},
     "inputWidgets": {},
     "nuid": "2fb8279a-0023-4ea5-9270-8d2af467c147",
     "showTitle": false,
     "tableResultSettingsMap": {},
     "title": ""
    },
    "execution": {
     "iopub.execute_input": "2024-11-28T20:22:33.420299Z",
     "iopub.status.busy": "2024-11-28T20:22:33.418981Z",
     "iopub.status.idle": "2024-11-28T20:22:34.555406Z",
     "shell.execute_reply": "2024-11-28T20:22:34.555902Z"
    }
   },
   "outputs": [],
   "source": [
    "import os\n",
    "import uuid\n",
    "import shutil\n",
    "import pandas as pd\n",
    "import databricks.automl_runtime\n",
    "\n",
    "from mlflow.tracking import MlflowClient\n",
    "\n",
    "# Download input data from mlflow into a pandas DataFrame\n",
    "# create temp directory to download data\n",
    "temp_dir = os.path.join(os.environ[\"SPARK_LOCAL_DIRS\"], str(uuid.uuid4())[:8])\n",
    "os.makedirs(temp_dir)\n",
    "\n",
    "# download the artifact and read it\n",
    "client = MlflowClient()\n",
    "training_data_path = client.download_artifacts(\"2418a54a8ace4acab969e247eff5d76a\", \"data\", temp_dir)\n",
    "df = pd.read_parquet(os.path.join(training_data_path, \"training_data\"))\n",
    "\n",
    "# delete the temp data\n",
    "shutil.rmtree(temp_dir)\n",
    "\n",
    "target_col = \"Diabetes_binary\""
   ]
  },
  {
   "cell_type": "markdown",
   "metadata": {
    "application/vnd.databricks.v1+cell": {
     "cellMetadata": {},
     "inputWidgets": {},
     "nuid": "7ae1a834-6867-4384-abe7-2a1b61cbf6ed",
     "showTitle": false,
     "tableResultSettingsMap": {},
     "title": ""
    }
   },
   "source": [
    "## Profiling Results"
   ]
  },
  {
   "cell_type": "code",
   "execution_count": 0,
   "metadata": {
    "application/vnd.databricks.v1+cell": {
     "cellMetadata": {},
     "inputWidgets": {},
     "nuid": "f7075383-6849-40c7-946a-9217895bd4c4",
     "showTitle": false,
     "tableResultSettingsMap": {},
     "title": ""
    },
    "execution": {
     "iopub.execute_input": "2024-11-28T20:22:34.560985Z",
     "iopub.status.busy": "2024-11-28T20:22:34.560423Z",
     "iopub.status.idle": "2024-11-28T20:22:44.183305Z",
     "shell.execute_reply": "2024-11-28T20:22:44.183877Z"
    },
    "large_display_output": true
   },
   "outputs": [],
   "source": [
    "from pandas_profiling import ProfileReport\n",
    "df_profile = ProfileReport(df, minimal=True, title=\"Profiling Report\", progress_bar=False, infer_dtypes=False)\n",
    "profile_html = df_profile.to_html()\n",
    "\n",
    "displayHTML(profile_html)"
   ]
  }
 ],
 "metadata": {
  "application/vnd.databricks.v1+notebook": {
   "computePreferences": null,
   "dashboards": [],
   "environmentMetadata": null,
   "language": "python",
   "notebookMetadata": {
    "pythonIndentUnit": 4
   },
   "notebookName": "24-11-28-20:22-DataExploration-880fcac33dd3154c0377410e92a88223",
   "widgets": {}
  },
  "language_info": {
   "name": "python"
  },
  "name": "DataExploration-880fcac33dd3154c0377410e92a88223"
 },
 "nbformat": 4,
 "nbformat_minor": 0
}
