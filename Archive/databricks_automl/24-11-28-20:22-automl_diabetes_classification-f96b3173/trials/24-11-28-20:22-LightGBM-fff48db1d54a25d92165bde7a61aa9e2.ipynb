{
 "cells": [
  {
   "cell_type": "markdown",
   "metadata": {
    "application/vnd.databricks.v1+cell": {
     "cellMetadata": {},
     "inputWidgets": {},
     "nuid": "f3818130-0029-44e7-b006-e97d61ebb93c",
     "showTitle": false,
     "tableResultSettingsMap": {},
     "title": ""
    }
   },
   "source": [
    "# LightGBM training\n",
    "This is an auto-generated notebook. To reproduce these results, attach this notebook to the **AutoML Cluster 3** cluster and rerun it.\n",
    "- Compare trials in the [MLflow experiment](#mlflow/experiments/3655579611970786/s?orderByKey=metrics.%60val_f1_score%60&orderByAsc=false)\n",
    "- Navigate to the parent notebook [here](#notebook/3655579611970663) (If you launched the AutoML experiment using the Experiments UI, this link isn't very useful.)\n",
    "- Clone this notebook into your project folder by selecting **File > Clone** in the notebook toolbar.\n",
    "\n",
    "Runtime Version: _9.1.x-cpu-ml-scala2.12_"
   ]
  },
  {
   "cell_type": "code",
   "execution_count": 0,
   "metadata": {
    "application/vnd.databricks.v1+cell": {
     "cellMetadata": {},
     "inputWidgets": {},
     "nuid": "c794a886-bb8f-4982-ba52-7baa28a33192",
     "showTitle": false,
     "tableResultSettingsMap": {},
     "title": ""
    },
    "execution": {
     "iopub.execute_input": "2024-11-28T20:29:58.800801Z",
     "iopub.status.busy": "2024-11-28T20:29:58.799069Z",
     "iopub.status.idle": "2024-11-28T20:29:59.337972Z",
     "shell.execute_reply": "2024-11-28T20:29:59.337011Z"
    }
   },
   "outputs": [],
   "source": [
    "import mlflow\n",
    "import databricks.automl_runtime\n",
    "\n",
    "# Use MLflow to track experiments\n",
    "mlflow.set_experiment(\"/Users/abermea@uchicago.edu/databricks_automl/24-11-28-20:22-automl_diabetes_classification-f96b3173/automl_diabetes_classification-Experiment-f96b3173\")\n",
    "\n",
    "target_col = \"Diabetes_binary\""
   ]
  },
  {
   "cell_type": "markdown",
   "metadata": {
    "application/vnd.databricks.v1+cell": {
     "cellMetadata": {},
     "inputWidgets": {},
     "nuid": "c8719a88-2408-4df0-abdb-a17e7773ee6e",
     "showTitle": false,
     "tableResultSettingsMap": {},
     "title": ""
    }
   },
   "source": [
    "## Load Data"
   ]
  },
  {
   "cell_type": "code",
   "execution_count": 0,
   "metadata": {
    "application/vnd.databricks.v1+cell": {
     "cellMetadata": {},
     "inputWidgets": {},
     "nuid": "2b32be65-7036-4cda-9e93-ee59d971caf9",
     "showTitle": false,
     "tableResultSettingsMap": {},
     "title": ""
    },
    "execution": {
     "iopub.execute_input": "2024-11-28T20:29:59.348213Z",
     "iopub.status.busy": "2024-11-28T20:29:59.347250Z",
     "iopub.status.idle": "2024-11-28T20:30:15.926056Z",
     "shell.execute_reply": "2024-11-28T20:30:15.927021Z"
    }
   },
   "outputs": [],
   "source": [
    "from mlflow.tracking import MlflowClient\n",
    "import os\n",
    "import uuid\n",
    "import shutil\n",
    "import pandas as pd\n",
    "\n",
    "# Create temp directory to download input data from MLflow\n",
    "input_temp_dir = os.path.join(os.environ[\"SPARK_LOCAL_DIRS\"], str(uuid.uuid4())[:8])\n",
    "os.makedirs(input_temp_dir)\n",
    "\n",
    "\n",
    "# Download the artifact and read it into a pandas DataFrame\n",
    "input_client = MlflowClient()\n",
    "input_data_path = input_client.download_artifacts(\"2418a54a8ace4acab969e247eff5d76a\", \"data\", input_temp_dir)\n",
    "\n",
    "df_loaded = pd.read_parquet(os.path.join(input_data_path, \"training_data\"))\n",
    "# Delete the temp data\n",
    "shutil.rmtree(input_temp_dir)\n",
    "\n",
    "# Preview data\n",
    "df_loaded.head(5)"
   ]
  },
  {
   "cell_type": "markdown",
   "metadata": {
    "application/vnd.databricks.v1+cell": {
     "cellMetadata": {},
     "inputWidgets": {},
     "nuid": "90c3d70e-d455-4884-a88c-f5914138688b",
     "showTitle": false,
     "tableResultSettingsMap": {},
     "title": ""
    }
   },
   "source": [
    "## Preprocessors"
   ]
  },
  {
   "cell_type": "code",
   "execution_count": 0,
   "metadata": {
    "application/vnd.databricks.v1+cell": {
     "cellMetadata": {},
     "inputWidgets": {},
     "nuid": "30a9d59f-d34c-4dab-b609-2423d9995ba9",
     "showTitle": false,
     "tableResultSettingsMap": {},
     "title": ""
    },
    "execution": {
     "iopub.execute_input": "2024-11-28T20:30:15.933062Z",
     "iopub.status.busy": "2024-11-28T20:30:15.932005Z",
     "iopub.status.idle": "2024-11-28T20:30:15.936100Z",
     "shell.execute_reply": "2024-11-28T20:30:15.935229Z"
    }
   },
   "outputs": [],
   "source": [
    "transformers = []"
   ]
  },
  {
   "cell_type": "markdown",
   "metadata": {
    "application/vnd.databricks.v1+cell": {
     "cellMetadata": {},
     "inputWidgets": {},
     "nuid": "98070eef-9b5d-42dc-bb73-1c58ad2b7dbc",
     "showTitle": false,
     "tableResultSettingsMap": {},
     "title": ""
    }
   },
   "source": [
    "### Numerical columns\n",
    "\n",
    "Missing values for numerical columns are imputed with mean for consistency"
   ]
  },
  {
   "cell_type": "code",
   "execution_count": 0,
   "metadata": {
    "application/vnd.databricks.v1+cell": {
     "cellMetadata": {},
     "inputWidgets": {},
     "nuid": "111cc30f-9a1a-44a1-a53b-08e8295a19a6",
     "showTitle": false,
     "tableResultSettingsMap": {},
     "title": ""
    },
    "execution": {
     "iopub.execute_input": "2024-11-28T20:30:15.944720Z",
     "iopub.status.busy": "2024-11-28T20:30:15.943677Z",
     "iopub.status.idle": "2024-11-28T20:30:16.372479Z",
     "shell.execute_reply": "2024-11-28T20:30:16.371962Z"
    }
   },
   "outputs": [],
   "source": [
    "from sklearn.impute import SimpleImputer\n",
    "from sklearn.pipeline import Pipeline\n",
    "from sklearn.preprocessing import FunctionTransformer\n",
    "\n",
    "numerical_pipeline = Pipeline(steps=[\n",
    "    (\"converter\", FunctionTransformer(lambda df: df.apply(pd.to_numeric, errors=\"coerce\"))),\n",
    "    (\"imputer\", SimpleImputer(strategy=\"mean\"))\n",
    "])\n",
    "\n",
    "transformers.append((\"numerical\", numerical_pipeline, [\"Age\", \"AnyHealthcare\", \"BMI\", \"CholCheck\", \"DiffWalk\", \"Education\", \"Fruits\", \"GenHlth\", \"HeartDiseaseorAttack\", \"HighBP\", \"HighChol\", \"HvyAlcoholConsump\", \"Income\", \"MentHlth\", \"NoDocbcCost\", \"PhysActivity\", \"PhysHlth\", \"Sex\", \"Smoker\", \"Stroke\", \"Veggies\"]))"
   ]
  },
  {
   "cell_type": "code",
   "execution_count": 0,
   "metadata": {
    "application/vnd.databricks.v1+cell": {
     "cellMetadata": {},
     "inputWidgets": {},
     "nuid": "bc50aeb2-d83d-4d95-8e8a-4b57b2e45e04",
     "showTitle": false,
     "tableResultSettingsMap": {},
     "title": ""
    },
    "execution": {
     "iopub.execute_input": "2024-11-28T20:30:16.378016Z",
     "iopub.status.busy": "2024-11-28T20:30:16.377104Z",
     "iopub.status.idle": "2024-11-28T20:30:16.381273Z",
     "shell.execute_reply": "2024-11-28T20:30:16.381774Z"
    }
   },
   "outputs": [],
   "source": [
    "from sklearn.compose import ColumnTransformer\n",
    "\n",
    "preprocessor = ColumnTransformer(transformers, remainder=\"passthrough\", sparse_threshold=0)"
   ]
  },
  {
   "cell_type": "markdown",
   "metadata": {
    "application/vnd.databricks.v1+cell": {
     "cellMetadata": {},
     "inputWidgets": {},
     "nuid": "ca421488-154a-452e-a14d-a225796bfb8a",
     "showTitle": false,
     "tableResultSettingsMap": {},
     "title": ""
    }
   },
   "source": [
    "### Feature standardization\n",
    "Scale all feature columns to be centered around zero with unit variance."
   ]
  },
  {
   "cell_type": "code",
   "execution_count": 0,
   "metadata": {
    "application/vnd.databricks.v1+cell": {
     "cellMetadata": {},
     "inputWidgets": {},
     "nuid": "8a3f57b3-539b-413b-9e26-c237c7b5c504",
     "showTitle": false,
     "tableResultSettingsMap": {},
     "title": ""
    },
    "execution": {
     "iopub.execute_input": "2024-11-28T20:30:16.385943Z",
     "iopub.status.busy": "2024-11-28T20:30:16.385283Z",
     "iopub.status.idle": "2024-11-28T20:30:16.388331Z",
     "shell.execute_reply": "2024-11-28T20:30:16.387754Z"
    }
   },
   "outputs": [],
   "source": [
    "from sklearn.preprocessing import StandardScaler\n",
    "\n",
    "standardizer = StandardScaler()"
   ]
  },
  {
   "cell_type": "markdown",
   "metadata": {
    "application/vnd.databricks.v1+cell": {
     "cellMetadata": {},
     "inputWidgets": {},
     "nuid": "ff6a7556-3dd2-4823-af0e-2cb9bf6e1ff3",
     "showTitle": false,
     "tableResultSettingsMap": {},
     "title": ""
    }
   },
   "source": [
    "## Training - Validation Split\n",
    "Split the input data into training and validation data"
   ]
  },
  {
   "cell_type": "code",
   "execution_count": 0,
   "metadata": {
    "application/vnd.databricks.v1+cell": {
     "cellMetadata": {},
     "inputWidgets": {},
     "nuid": "a9eba5df-bd6d-46b1-b5db-2f69f0bbd84a",
     "showTitle": false,
     "tableResultSettingsMap": {},
     "title": ""
    },
    "execution": {
     "iopub.execute_input": "2024-11-28T20:30:16.401304Z",
     "iopub.status.busy": "2024-11-28T20:30:16.400347Z",
     "iopub.status.idle": "2024-11-28T20:30:16.456331Z",
     "shell.execute_reply": "2024-11-28T20:30:16.456886Z"
    }
   },
   "outputs": [],
   "source": [
    "from sklearn.model_selection import train_test_split\n",
    "\n",
    "split_X = df_loaded.drop([target_col], axis=1)\n",
    "split_y = df_loaded[target_col]\n",
    "\n",
    "X_train, X_val, y_train, y_val = train_test_split(split_X, split_y, random_state=706978058, stratify=split_y)"
   ]
  },
  {
   "cell_type": "markdown",
   "metadata": {
    "application/vnd.databricks.v1+cell": {
     "cellMetadata": {},
     "inputWidgets": {},
     "nuid": "b5b7e231-6f6a-4f9b-9a2d-bc425e37151f",
     "showTitle": false,
     "tableResultSettingsMap": {},
     "title": ""
    }
   },
   "source": [
    "## Train classification model\n",
    "- Log relevant metrics to MLflow to track runs\n",
    "- All the runs are logged under [this MLflow experiment](#mlflow/experiments/3655579611970786/s?orderByKey=metrics.%60val_f1_score%60&orderByAsc=false)\n",
    "- Change the model parameters and re-run the training cell to log a different trial to the MLflow experiment\n",
    "- To view the full list of tunable hyperparameters, check the output of the cell below"
   ]
  },
  {
   "cell_type": "code",
   "execution_count": 0,
   "metadata": {
    "application/vnd.databricks.v1+cell": {
     "cellMetadata": {},
     "inputWidgets": {},
     "nuid": "78c64c80-d128-4aa3-9822-bede7d4615d6",
     "showTitle": false,
     "tableResultSettingsMap": {},
     "title": ""
    },
    "execution": {
     "iopub.execute_input": "2024-11-28T20:30:16.461933Z",
     "iopub.status.busy": "2024-11-28T20:30:16.461018Z",
     "iopub.status.idle": "2024-11-28T20:30:16.483281Z",
     "shell.execute_reply": "2024-11-28T20:30:16.482820Z"
    }
   },
   "outputs": [],
   "source": [
    "from lightgbm import LGBMClassifier\n",
    "\n",
    "help(LGBMClassifier)"
   ]
  },
  {
   "cell_type": "code",
   "execution_count": 0,
   "metadata": {
    "application/vnd.databricks.v1+cell": {
     "cellMetadata": {},
     "inputWidgets": {},
     "nuid": "86812bea-75ed-4383-b108-7440a4dc718a",
     "showTitle": false,
     "tableResultSettingsMap": {},
     "title": ""
    },
    "execution": {
     "iopub.execute_input": "2024-11-28T20:30:16.489697Z",
     "iopub.status.busy": "2024-11-28T20:30:16.488967Z",
     "iopub.status.idle": "2024-11-28T20:30:16.535677Z",
     "shell.execute_reply": "2024-11-28T20:30:16.535109Z"
    }
   },
   "outputs": [],
   "source": [
    "import mlflow\n",
    "import sklearn\n",
    "from sklearn import set_config\n",
    "from sklearn.pipeline import Pipeline\n",
    "\n",
    "set_config(display=\"diagram\")\n",
    "\n",
    "lgbmc_classifier = LGBMClassifier(\n",
    "  colsample_bytree=0.25897175241238385,\n",
    "  lambda_l1=1.5885674527851787,\n",
    "  lambda_l2=41.17028354035533,\n",
    "  learning_rate=0.017161110091254077,\n",
    "  max_bin=128,\n",
    "  min_child_samples=13,\n",
    "  n_estimators=13767,\n",
    "  num_leaves=23073,\n",
    "  subsample=0.14879037785207064,\n",
    "  random_state=706978058,\n",
    ")\n",
    "\n",
    "model = Pipeline([\n",
    "    (\"preprocessor\", preprocessor),\n",
    "    (\"standardizer\", standardizer),\n",
    "    (\"classifier\", lgbmc_classifier),\n",
    "])\n",
    "\n",
    "model"
   ]
  },
  {
   "cell_type": "code",
   "execution_count": 0,
   "metadata": {
    "application/vnd.databricks.v1+cell": {
     "cellMetadata": {},
     "inputWidgets": {},
     "nuid": "81418490-f902-4964-9f60-70d8bf8b5336",
     "showTitle": false,
     "tableResultSettingsMap": {},
     "title": ""
    },
    "execution": {
     "iopub.execute_input": "2024-11-28T20:30:16.540829Z",
     "iopub.status.busy": "2024-11-28T20:30:16.540208Z",
     "iopub.status.idle": "2024-11-28T20:47:32.166337Z",
     "shell.execute_reply": "2024-11-28T20:47:32.171271Z"
    }
   },
   "outputs": [],
   "source": [
    "# Enable automatic logging of input samples, metrics, parameters, and models\n",
    "mlflow.sklearn.autolog(log_input_examples=True, silent=True)\n",
    "\n",
    "with mlflow.start_run(run_name=\"lightgbm\") as mlflow_run:\n",
    "    model.fit(X_train, y_train)\n",
    "    \n",
    "    # Training metrics are logged by MLflow autologging\n",
    "    # Log metrics for the validation set\n",
    "    lgbmc_val_metrics = mlflow.sklearn.eval_and_log_metrics(model, X_val, y_val,\n",
    "                                                                prefix=\"val_\")\n",
    "    display(pd.DataFrame(lgbmc_val_metrics, index=[0]))"
   ]
  },
  {
   "cell_type": "code",
   "execution_count": 0,
   "metadata": {
    "application/vnd.databricks.v1+cell": {
     "cellMetadata": {},
     "inputWidgets": {},
     "nuid": "faf0e173-42a2-45ed-b586-03087553b706",
     "showTitle": false,
     "tableResultSettingsMap": {},
     "title": ""
    },
    "execution": {
     "iopub.execute_input": "2024-11-28T20:47:32.267511Z",
     "iopub.status.busy": "2024-11-28T20:47:32.265458Z",
     "iopub.status.idle": "2024-11-28T20:47:33.031513Z",
     "shell.execute_reply": "2024-11-28T20:47:33.031989Z"
    }
   },
   "outputs": [],
   "source": [
    "# Patch requisite packages to the model environment YAML for model serving\n",
    "import os\n",
    "import shutil\n",
    "import uuid\n",
    "import yaml\n",
    "\n",
    "None\n",
    "\n",
    "import lightgbm\n",
    "from mlflow.tracking import MlflowClient\n",
    "\n",
    "lgbmc_temp_dir = os.path.join(os.environ[\"SPARK_LOCAL_DIRS\"], str(uuid.uuid4())[:8])\n",
    "os.makedirs(lgbmc_temp_dir)\n",
    "lgbmc_client = MlflowClient()\n",
    "lgbmc_model_env_path = lgbmc_client.download_artifacts(mlflow_run.info.run_id, \"model/conda.yaml\", lgbmc_temp_dir)\n",
    "lgbmc_model_env_str = open(lgbmc_model_env_path)\n",
    "lgbmc_parsed_model_env_str = yaml.load(lgbmc_model_env_str, Loader=yaml.FullLoader)\n",
    "\n",
    "lgbmc_parsed_model_env_str[\"dependencies\"][-1][\"pip\"].append(f\"lightgbm=={lightgbm.__version__}\")\n",
    "\n",
    "with open(lgbmc_model_env_path, \"w\") as f:\n",
    "  f.write(yaml.dump(lgbmc_parsed_model_env_str))\n",
    "lgbmc_client.log_artifact(run_id=mlflow_run.info.run_id, local_path=lgbmc_model_env_path, artifact_path=\"model\")\n",
    "shutil.rmtree(lgbmc_temp_dir)"
   ]
  },
  {
   "cell_type": "markdown",
   "metadata": {
    "application/vnd.databricks.v1+cell": {
     "cellMetadata": {},
     "inputWidgets": {},
     "nuid": "663a3852-0fef-4a6e-99ab-d69605bea932",
     "showTitle": false,
     "tableResultSettingsMap": {},
     "title": ""
    }
   },
   "source": [
    "### Patch pandas version in logged model\n",
    "\n",
    "Ensures that model serving uses the same version of pandas that was used to train the model."
   ]
  },
  {
   "cell_type": "code",
   "execution_count": 0,
   "metadata": {
    "application/vnd.databricks.v1+cell": {
     "cellMetadata": {},
     "inputWidgets": {},
     "nuid": "ae6019e7-6823-4985-8306-5036c4feeaf4",
     "showTitle": false,
     "tableResultSettingsMap": {},
     "title": ""
    },
    "execution": {
     "iopub.execute_input": "2024-11-28T20:47:33.055856Z",
     "iopub.status.busy": "2024-11-28T20:47:33.055277Z",
     "iopub.status.idle": "2024-11-28T20:47:33.695977Z",
     "shell.execute_reply": "2024-11-28T20:47:33.696537Z"
    }
   },
   "outputs": [],
   "source": [
    "import mlflow\n",
    "import os\n",
    "import shutil\n",
    "import tempfile\n",
    "import yaml\n",
    "\n",
    "run_id = mlflow_run.info.run_id\n",
    "\n",
    "# Set up a local dir for downloading the artifacts.\n",
    "tmp_dir = str(tempfile.TemporaryDirectory())\n",
    "os.makedirs(tmp_dir)\n",
    "\n",
    "client = mlflow.tracking.MlflowClient()\n",
    "\n",
    "# Fix conda.yaml\n",
    "conda_file_path = client.download_artifacts(run_id, \"model/conda.yaml\", dst_path=tmp_dir)\n",
    "with open(conda_file_path) as f:\n",
    "  conda_libs = yaml.load(f, Loader=yaml.FullLoader)\n",
    "pandas_lib_exists = any([lib.startswith(\"pandas==\") for lib in conda_libs[\"dependencies\"][-1][\"pip\"]])\n",
    "if not pandas_lib_exists:\n",
    "  print(\"Adding pandas dependency to conda.yaml\")\n",
    "  conda_libs[\"dependencies\"][-1][\"pip\"].append(f\"pandas=={pd.__version__}\")\n",
    "\n",
    "  with open(f\"{tmp_dir}/conda.yaml\", \"w\") as f:\n",
    "    f.write(yaml.dump(conda_libs))\n",
    "  client.log_artifact(run_id=run_id, local_path=conda_file_path, artifact_path=\"model\")\n",
    "\n",
    "# Fix requirements.txt\n",
    "venv_file_path = client.download_artifacts(run_id, \"model/requirements.txt\", dst_path=tmp_dir)\n",
    "with open(venv_file_path) as f:\n",
    "  venv_libs = f.readlines()\n",
    "venv_libs = [lib.strip() for lib in venv_libs]\n",
    "pandas_lib_exists = any([lib.startswith(\"pandas==\") for lib in venv_libs])\n",
    "if not pandas_lib_exists:\n",
    "  print(\"Adding pandas dependency to requirements.txt\")\n",
    "  venv_libs.append(f\"pandas=={pd.__version__}\")\n",
    "\n",
    "  with open(f\"{tmp_dir}/requirements.txt\", \"w\") as f:\n",
    "    f.write(\"\\n\".join(venv_libs))\n",
    "  client.log_artifact(run_id=run_id, local_path=venv_file_path, artifact_path=\"model\")\n",
    "\n",
    "shutil.rmtree(tmp_dir)"
   ]
  },
  {
   "cell_type": "markdown",
   "metadata": {
    "application/vnd.databricks.v1+cell": {
     "cellMetadata": {},
     "inputWidgets": {},
     "nuid": "5e42b113-870a-48b3-9ffc-bf740f218e37",
     "showTitle": false,
     "tableResultSettingsMap": {},
     "title": ""
    }
   },
   "source": [
    "## Feature importance\n",
    "\n",
    "SHAP is a game-theoretic approach to explain machine learning models, providing a summary plot\n",
    "of the relationship between features and model output. Features are ranked in descending order of\n",
    "importance, and impact/color describe the correlation between the feature and the target variable.\n",
    "- Generating SHAP feature importance is a very memory intensive operation, so to ensure that AutoML can run trials without\n",
    "  running out of memory, we disable SHAP by default.<br />\n",
    "  You can set the flag defined below to `shap_enabled = True` and re-run this notebook to see the SHAP plots.\n",
    "- To reduce the computational overhead of each trial, a single example is sampled from the validation set to explain.<br />\n",
    "  For more thorough results, increase the sample size of explanations, or provide your own examples to explain.\n",
    "- SHAP cannot explain models using data with nulls; if your dataset has any, both the background data and\n",
    "  examples to explain will be imputed using the mode (most frequent values). This affects the computed\n",
    "  SHAP values, as the imputed samples may not match the actual data distribution.\n",
    "\n",
    "For more information on how to read Shapley values, see the [SHAP documentation](https://shap.readthedocs.io/en/latest/example_notebooks/overviews/An%20introduction%20to%20explainable%20AI%20with%20Shapley%20values.html)."
   ]
  },
  {
   "cell_type": "code",
   "execution_count": 0,
   "metadata": {
    "application/vnd.databricks.v1+cell": {
     "cellMetadata": {},
     "inputWidgets": {},
     "nuid": "a13b39cc-7831-4adb-89e1-e8379d5495e8",
     "showTitle": false,
     "tableResultSettingsMap": {},
     "title": ""
    },
    "execution": {
     "iopub.execute_input": "2024-11-28T20:47:33.702347Z",
     "iopub.status.busy": "2024-11-28T20:47:33.701724Z",
     "iopub.status.idle": "2024-11-28T20:47:33.704479Z",
     "shell.execute_reply": "2024-11-28T20:47:33.704012Z"
    }
   },
   "outputs": [],
   "source": [
    "# Set this flag to True and re-run the notebook to see the SHAP plots\n",
    "shap_enabled = False"
   ]
  },
  {
   "cell_type": "code",
   "execution_count": 0,
   "metadata": {
    "application/vnd.databricks.v1+cell": {
     "cellMetadata": {},
     "inputWidgets": {},
     "nuid": "00665337-41a6-4102-96d4-e7fc13b1294f",
     "showTitle": false,
     "tableResultSettingsMap": {},
     "title": ""
    },
    "execution": {
     "iopub.execute_input": "2024-11-28T20:47:33.713917Z",
     "iopub.status.busy": "2024-11-28T20:47:33.712645Z",
     "iopub.status.idle": "2024-11-28T20:47:33.715308Z",
     "shell.execute_reply": "2024-11-28T20:47:33.714801Z"
    }
   },
   "outputs": [],
   "source": [
    "if shap_enabled:\n",
    "    mlflow.autolog(disable=True)\n",
    "    mlflow.sklearn.autolog(disable=True)\n",
    "    from shap import KernelExplainer, summary_plot\n",
    "    # Sample background data for SHAP Explainer. Increase the sample size to reduce variance.\n",
    "    train_sample = X_train.sample(n=min(100, len(X_train.index)))\n",
    "\n",
    "    # Sample a single example from the validation set to explain. Increase the sample size and rerun for more thorough results.\n",
    "    example = X_val.sample(n=1)\n",
    "\n",
    "    # Use Kernel SHAP to explain feature importance on the example from the validation set.\n",
    "    predict = lambda x: model.predict(pd.DataFrame(x, columns=X_train.columns))\n",
    "    explainer = KernelExplainer(predict, train_sample, link=\"identity\")\n",
    "    shap_values = explainer.shap_values(example, l1_reg=False, nsamples=500)\n",
    "    summary_plot(shap_values, example)"
   ]
  },
  {
   "cell_type": "markdown",
   "metadata": {
    "application/vnd.databricks.v1+cell": {
     "cellMetadata": {},
     "inputWidgets": {},
     "nuid": "b5998337-d093-4ff7-a31b-7a66b02b66cc",
     "showTitle": false,
     "tableResultSettingsMap": {},
     "title": ""
    }
   },
   "source": [
    "## Inference\n",
    "[The MLflow Model Registry](https://docs.databricks.com/applications/mlflow/model-registry.html) is a collaborative hub where teams can share ML models, work together from experimentation to online testing and production, integrate with approval and governance workflows, and monitor ML deployments and their performance. The snippets below show how to add the model trained in this notebook to the model registry and to retrieve it later for inference.\n",
    "\n",
    "> **NOTE:** The `model_uri` for the model already trained in this notebook can be found in the cell below\n",
    "\n",
    "### Register to Model Registry\n",
    "```\n",
    "model_name = \"Example\"\n",
    "\n",
    "model_uri = f\"runs:/{ mlflow_run.info.run_id }/model\"\n",
    "registered_model_version = mlflow.register_model(model_uri, model_name)\n",
    "```\n",
    "\n",
    "### Load from Model Registry\n",
    "```\n",
    "model_name = \"Example\"\n",
    "model_version = registered_model_version.version\n",
    "\n",
    "model = mlflow.pyfunc.load_model(model_uri=f\"models:/{model_name}/{model_version}\")\n",
    "model.predict(input_X)\n",
    "```\n",
    "\n",
    "### Load model without registering\n",
    "```\n",
    "model_uri = f\"runs:/{ mlflow_run.info.run_id }/model\"\n",
    "\n",
    "model = mlflow.pyfunc.load_model(model_uri)\n",
    "model.predict(input_X)\n",
    "```"
   ]
  },
  {
   "cell_type": "code",
   "execution_count": 0,
   "metadata": {
    "application/vnd.databricks.v1+cell": {
     "cellMetadata": {},
     "inputWidgets": {},
     "nuid": "0ef81468-1787-4fcf-a96a-1508d198398b",
     "showTitle": false,
     "tableResultSettingsMap": {},
     "title": ""
    },
    "execution": {
     "iopub.execute_input": "2024-11-28T20:47:33.720179Z",
     "iopub.status.busy": "2024-11-28T20:47:33.718947Z",
     "iopub.status.idle": "2024-11-28T20:47:33.728419Z",
     "shell.execute_reply": "2024-11-28T20:47:33.727389Z"
    }
   },
   "outputs": [],
   "source": [
    "# model_uri for the generated model\n",
    "print(f\"runs:/{ mlflow_run.info.run_id }/model\")"
   ]
  }
 ],
 "metadata": {
  "application/vnd.databricks.v1+notebook": {
   "computePreferences": null,
   "dashboards": [],
   "environmentMetadata": null,
   "language": "python",
   "notebookMetadata": {
    "pythonIndentUnit": 4
   },
   "notebookName": "24-11-28-20:22-LightGBM-fff48db1d54a25d92165bde7a61aa9e2",
   "widgets": {}
  },
  "language_info": {
   "name": "python"
  },
  "name": "LightGBM-fff48db1d54a25d92165bde7a61aa9e2"
 },
 "nbformat": 4,
 "nbformat_minor": 0
}
