{
 "cells": [
  {
   "cell_type": "code",
   "execution_count": 0,
   "metadata": {
    "application/vnd.databricks.v1+cell": {
     "cellMetadata": {
      "byteLimit": 2048000,
      "rowLimit": 10000
     },
     "inputWidgets": {},
     "nuid": "41d20ba3-c187-4dc3-8a22-cb6db4ec0ac3",
     "showTitle": false,
     "tableResultSettingsMap": {},
     "title": ""
    },
    "executionInfo": {
     "elapsed": 13529,
     "status": "ok",
     "timestamp": 1731880857096,
     "user": {
      "displayName": "Alberto Bermea Trevino",
      "userId": "18219897344377314048"
     },
     "user_tz": 360
    },
    "id": "8d07f175-f233-44f5-bd8a-d40d706d0c4d",
    "tags": []
   },
   "outputs": [],
   "source": [
    "# general\n",
    "import pandas as pd\n",
    "import numpy as np\n",
    "import matplotlib.pyplot as plt\n",
    "import seaborn as sns\n",
    "import os"
   ]
  },
  {
   "cell_type": "code",
   "execution_count": 0,
   "metadata": {
    "application/vnd.databricks.v1+cell": {
     "cellMetadata": {
      "byteLimit": 2048000,
      "rowLimit": 10000
     },
     "inputWidgets": {},
     "nuid": "db10fa5c-199f-4c8b-8d41-2b97abe94c1e",
     "showTitle": false,
     "tableResultSettingsMap": {},
     "title": ""
    },
    "colab": {
     "base_uri": "https://localhost:8080/",
     "height": 256
    },
    "executionInfo": {
     "elapsed": 21750,
     "status": "ok",
     "timestamp": 1731880878840,
     "user": {
      "displayName": "Alberto Bermea Trevino",
      "userId": "18219897344377314048"
     },
     "user_tz": 360
    },
    "id": "696269c6-3abe-4d4d-a5a6-5a071dcfce29",
    "outputId": "3ad078d7-a883-41cd-a9f8-6fb7aefd332c",
    "tags": []
   },
   "outputs": [],
   "source": [
    "path = 'diabetes_binary_health_indicators_BRFSS2015.csv'\n",
    "\n",
    "df = pd.read_csv(path, encoding=\"utf-8\", encoding_errors=\"replace\")\n",
    "\n",
    "print(\"Shape: \", df.shape)\n",
    "df.head(4)"
   ]
  },
  {
   "cell_type": "code",
   "execution_count": 0,
   "metadata": {
    "application/vnd.databricks.v1+cell": {
     "cellMetadata": {
      "byteLimit": 2048000,
      "rowLimit": 10000
     },
     "inputWidgets": {},
     "nuid": "20f22ec6-c1b1-4c6f-bedb-8538abf59341",
     "showTitle": false,
     "tableResultSettingsMap": {},
     "title": ""
    }
   },
   "outputs": [],
   "source": [
    "df.to_csv('/dbfs/FileStore/tables/diabetes_raw.csv')"
   ]
  },
  {
   "cell_type": "markdown",
   "metadata": {
    "application/vnd.databricks.v1+cell": {
     "cellMetadata": {},
     "inputWidgets": {},
     "nuid": "cd0e2afc-a666-42c2-8681-b6f87a40cadf",
     "showTitle": false,
     "tableResultSettingsMap": {},
     "title": ""
    },
    "id": "75a2e9ae-f16f-4212-9da8-dff8dcde46fe"
   },
   "source": [
    "# Check for NaNs"
   ]
  },
  {
   "cell_type": "code",
   "execution_count": 0,
   "metadata": {
    "application/vnd.databricks.v1+cell": {
     "cellMetadata": {
      "byteLimit": 2048000,
      "rowLimit": 10000
     },
     "inputWidgets": {},
     "nuid": "5dbbec93-1d99-45db-a396-69d6753e8719",
     "showTitle": false,
     "tableResultSettingsMap": {},
     "title": ""
    },
    "colab": {
     "base_uri": "https://localhost:8080/"
    },
    "executionInfo": {
     "elapsed": 169,
     "status": "ok",
     "timestamp": 1731880879003,
     "user": {
      "displayName": "Alberto Bermea Trevino",
      "userId": "18219897344377314048"
     },
     "user_tz": 360
    },
    "id": "e311cb11-041d-4d63-ac21-6244d2a2b867",
    "outputId": "3c37017d-143e-4c6f-b0ea-bd8e5d4bcaaf",
    "tags": []
   },
   "outputs": [],
   "source": [
    "df.info()"
   ]
  },
  {
   "cell_type": "code",
   "execution_count": 0,
   "metadata": {
    "application/vnd.databricks.v1+cell": {
     "cellMetadata": {
      "byteLimit": 2048000,
      "rowLimit": 10000
     },
     "inputWidgets": {},
     "nuid": "e92f2561-8e95-4d40-bc8a-8c2f8d273046",
     "showTitle": false,
     "tableResultSettingsMap": {},
     "title": ""
    },
    "colab": {
     "base_uri": "https://localhost:8080/",
     "height": 765
    },
    "executionInfo": {
     "elapsed": 245,
     "status": "ok",
     "timestamp": 1731880879245,
     "user": {
      "displayName": "Alberto Bermea Trevino",
      "userId": "18219897344377314048"
     },
     "user_tz": 360
    },
    "id": "2baa9269-aec1-4cb7-866e-e3c10b906d6f",
    "outputId": "48f62f98-047e-4344-f740-7404e8e0f6ea",
    "tags": []
   },
   "outputs": [],
   "source": [
    "df.isna().sum()"
   ]
  },
  {
   "cell_type": "markdown",
   "metadata": {
    "application/vnd.databricks.v1+cell": {
     "cellMetadata": {},
     "inputWidgets": {},
     "nuid": "613dd7f2-367b-4ce5-860d-e282313fe43e",
     "showTitle": false,
     "tableResultSettingsMap": {},
     "title": ""
    },
    "id": "9b039b90-1024-40dd-b894-2ed3d6b36d60",
    "tags": []
   },
   "source": [
    "# Imbalance dataset for the predictor"
   ]
  },
  {
   "cell_type": "code",
   "execution_count": 0,
   "metadata": {
    "application/vnd.databricks.v1+cell": {
     "cellMetadata": {
      "byteLimit": 2048000,
      "rowLimit": 10000
     },
     "inputWidgets": {},
     "nuid": "dc0a6889-c155-4377-8e3c-d2987c171350",
     "showTitle": false,
     "tableResultSettingsMap": {},
     "title": ""
    },
    "colab": {
     "base_uri": "https://localhost:8080/",
     "height": 176
    },
    "executionInfo": {
     "elapsed": 7,
     "status": "ok",
     "timestamp": 1731880879245,
     "user": {
      "displayName": "Alberto Bermea Trevino",
      "userId": "18219897344377314048"
     },
     "user_tz": 360
    },
    "id": "abe0cb5a-d87b-4e2b-a971-36e15c853fe0",
    "outputId": "2483a554-7a93-4354-c955-4b72f6fc36bf",
    "tags": []
   },
   "outputs": [],
   "source": [
    "df['Diabetes_binary'].value_counts()"
   ]
  },
  {
   "cell_type": "code",
   "execution_count": 0,
   "metadata": {
    "application/vnd.databricks.v1+cell": {
     "cellMetadata": {
      "byteLimit": 2048000,
      "rowLimit": 10000
     },
     "inputWidgets": {},
     "nuid": "03d86337-49c3-4845-974e-5eb4cd6e7ced",
     "showTitle": false,
     "tableResultSettingsMap": {},
     "title": ""
    },
    "colab": {
     "base_uri": "https://localhost:8080/",
     "height": 242
    },
    "executionInfo": {
     "elapsed": 1603,
     "status": "ok",
     "timestamp": 1731880880843,
     "user": {
      "displayName": "Alberto Bermea Trevino",
      "userId": "18219897344377314048"
     },
     "user_tz": 360
    },
    "id": "2028c63c-eb40-4779-8ff7-f3fd3b0346ec",
    "outputId": "b8822ff3-f5db-49ca-b4ac-ccc876696077",
    "tags": []
   },
   "outputs": [],
   "source": [
    "df['Diabetes_binary'].value_counts(1).plot(kind='barh',figsize=(10, 2)).spines[['top', 'right']].set_visible(False);\n",
    "plt.title('Diabetes_binary Distribution (%)', fontsize=18)\n",
    "plt.yticks(ticks=[0,1], labels=['Non-Diabetic', 'Diabetic']);"
   ]
  },
  {
   "cell_type": "markdown",
   "metadata": {
    "application/vnd.databricks.v1+cell": {
     "cellMetadata": {},
     "inputWidgets": {},
     "nuid": "fbcc4cb9-5140-464b-8dae-3704a5600682",
     "showTitle": false,
     "tableResultSettingsMap": {},
     "title": ""
    },
    "id": "c2397df3-7287-48ed-8296-4d152c877582"
   },
   "source": [
    "# Correlation Matrix"
   ]
  },
  {
   "cell_type": "code",
   "execution_count": 0,
   "metadata": {
    "application/vnd.databricks.v1+cell": {
     "cellMetadata": {
      "byteLimit": 2048000,
      "rowLimit": 10000
     },
     "inputWidgets": {},
     "nuid": "a46d0c46-9c6b-4fd5-a64d-bc8c91c2bf0c",
     "showTitle": false,
     "tableResultSettingsMap": {},
     "title": ""
    },
    "colab": {
     "base_uri": "https://localhost:8080/",
     "height": 668
    },
    "executionInfo": {
     "elapsed": 4885,
     "status": "ok",
     "timestamp": 1731880885724,
     "user": {
      "displayName": "Alberto Bermea Trevino",
      "userId": "18219897344377314048"
     },
     "user_tz": 360
    },
    "id": "887a2f1f-bb4e-42bb-90f7-82ebb005e0e9",
    "outputId": "fae0206c-3246-402f-bd71-01c5f845e299",
    "tags": []
   },
   "outputs": [],
   "source": [
    "corr_matrix = df.corr()\n",
    "\n",
    "# Heatmap of the correlation matrix\n",
    "plt.figure(figsize=(16, 8))\n",
    "sns.heatmap(corr_matrix, annot=True, fmt=\".2f\", cmap='coolwarm')\n",
    "plt.title('Correlation Matrix')\n",
    "plt.show()"
   ]
  },
  {
   "cell_type": "markdown",
   "metadata": {
    "application/vnd.databricks.v1+cell": {
     "cellMetadata": {},
     "inputWidgets": {},
     "nuid": "09a49d80-f8e6-4bea-8352-272813dbe668",
     "showTitle": false,
     "tableResultSettingsMap": {},
     "title": ""
    },
    "id": "646a0a81-e4dd-4e69-9a8a-6cab30357a1a"
   },
   "source": [
    "# Categorize Features"
   ]
  },
  {
   "cell_type": "code",
   "execution_count": 0,
   "metadata": {
    "application/vnd.databricks.v1+cell": {
     "cellMetadata": {
      "byteLimit": 2048000,
      "rowLimit": 10000
     },
     "inputWidgets": {},
     "nuid": "74668564-8484-4ac2-a1c7-6da09e29f53c",
     "showTitle": false,
     "tableResultSettingsMap": {},
     "title": ""
    },
    "executionInfo": {
     "elapsed": 154,
     "status": "ok",
     "timestamp": 1731880885872,
     "user": {
      "displayName": "Alberto Bermea Trevino",
      "userId": "18219897344377314048"
     },
     "user_tz": 360
    },
    "id": "c32b9d33-77a7-43f8-b2f3-1bdef65afd2f",
    "tags": []
   },
   "outputs": [],
   "source": [
    "target = 'Diabetes_binary'\n",
    "bool_vars = (df.nunique()[df.nunique() == 2]\n",
    "                .index\n",
    "                .drop(labels='Diabetes_binary'))\n",
    "num_vars = [var for var in df.columns if var not in bool_vars and var != 'Diabetes_binary']"
   ]
  },
  {
   "cell_type": "markdown",
   "metadata": {
    "application/vnd.databricks.v1+cell": {
     "cellMetadata": {},
     "inputWidgets": {},
     "nuid": "153f2b9f-849b-4c1f-b223-557489813571",
     "showTitle": false,
     "tableResultSettingsMap": {},
     "title": ""
    },
    "id": "26c3d51c-9cdf-4b46-a39f-8464e02ac38b"
   },
   "source": [
    "# Binary Features Distribution"
   ]
  },
  {
   "cell_type": "code",
   "execution_count": 0,
   "metadata": {
    "application/vnd.databricks.v1+cell": {
     "cellMetadata": {
      "byteLimit": 2048000,
      "rowLimit": 10000
     },
     "inputWidgets": {},
     "nuid": "160068b6-53f3-4716-94ed-c291ea0915fe",
     "showTitle": false,
     "tableResultSettingsMap": {},
     "title": ""
    },
    "colab": {
     "base_uri": "https://localhost:8080/",
     "height": 1000
    },
    "executionInfo": {
     "elapsed": 5249,
     "status": "ok",
     "timestamp": 1731880891118,
     "user": {
      "displayName": "Alberto Bermea Trevino",
      "userId": "18219897344377314048"
     },
     "user_tz": 360
    },
    "id": "999a1649-dc2d-4e3e-b660-e3f378c10c67",
    "outputId": "e1950549-9632-46ae-e7a0-d4b417dd119c",
    "tags": []
   },
   "outputs": [],
   "source": [
    "for col in bool_vars:\n",
    "    (df.groupby('Diabetes_binary')[col]\n",
    "     .value_counts(1)\n",
    "     .unstack()\n",
    "     .iloc[:,::-1]\n",
    "     .plot(kind='barh',stacked=True,figsize=(10, 2), alpha=1)\n",
    "     .spines[['top', 'right']].set_visible(False))\n",
    "    plt.legend(['Yes', \"No\"],bbox_to_anchor=(1, 1, 0, 0),shadow=False, frameon=False)\n",
    "    plt.yticks(ticks=[0,1], labels=['Non-Diabetic', 'Diabetic'])\n",
    "    plt.tight_layout()\n",
    "    plt.title(col, fontsize=18)\n",
    "    plt.show()"
   ]
  },
  {
   "cell_type": "markdown",
   "metadata": {
    "application/vnd.databricks.v1+cell": {
     "cellMetadata": {},
     "inputWidgets": {},
     "nuid": "4306c175-fd46-4562-8ad8-d6ed2c403cc7",
     "showTitle": false,
     "tableResultSettingsMap": {},
     "title": ""
    },
    "id": "551cb052-13d9-4ff9-9096-03d083fef123"
   },
   "source": [
    "# Numeric Features Distribution"
   ]
  },
  {
   "cell_type": "code",
   "execution_count": 0,
   "metadata": {
    "application/vnd.databricks.v1+cell": {
     "cellMetadata": {
      "byteLimit": 2048000,
      "rowLimit": 10000
     },
     "inputWidgets": {},
     "nuid": "0c0f649c-d7b2-4635-8ac2-950640eedee4",
     "showTitle": false,
     "tableResultSettingsMap": {},
     "title": ""
    },
    "colab": {
     "base_uri": "https://localhost:8080/",
     "height": 625
    },
    "executionInfo": {
     "elapsed": 3006,
     "status": "ok",
     "timestamp": 1731880894116,
     "user": {
      "displayName": "Alberto Bermea Trevino",
      "userId": "18219897344377314048"
     },
     "user_tz": 360
    },
    "id": "4fa543bd-8555-4745-902a-4bd16647b5a8",
    "outputId": "36ccea1f-31ca-4c8e-fef2-cf8e888d4569",
    "tags": []
   },
   "outputs": [],
   "source": [
    "plt.figure(figsize=(20, 20))\n",
    "num_rows = len(num_vars)\n",
    "\n",
    "for index, var in enumerate(num_vars):\n",
    "    plt.subplot(num_rows, 2, index+1)\n",
    "    df[df['Diabetes_binary'] == 0][var].hist(alpha=0.5, label='Diabetes=0', bins=30)\n",
    "    df[df['Diabetes_binary'] == 1][var].hist(alpha=0.5, label='Diabetes=1', bins=30)\n",
    "    plt.title(var)\n",
    "    plt.xlabel(var)\n",
    "    plt.ylabel('Frequency')\n",
    "    plt.legend()\n",
    "\n",
    "plt.tight_layout()\n",
    "plt.show()"
   ]
  },
  {
   "cell_type": "code",
   "execution_count": 0,
   "metadata": {
    "application/vnd.databricks.v1+cell": {
     "cellMetadata": {
      "byteLimit": 2048000,
      "rowLimit": 10000
     },
     "inputWidgets": {},
     "nuid": "d44879de-efa7-4528-beef-bcfed9bcd0e0",
     "showTitle": false,
     "tableResultSettingsMap": {},
     "title": ""
    },
    "colab": {
     "base_uri": "https://localhost:8080/"
    },
    "executionInfo": {
     "elapsed": 5797,
     "status": "ok",
     "timestamp": 1731880899908,
     "user": {
      "displayName": "Alberto Bermea Trevino",
      "userId": "18219897344377314048"
     },
     "user_tz": 360
    },
    "id": "aebfcd7c-446f-4db3-ba3f-07e02043b372",
    "outputId": "31db7ce8-abdc-4239-967f-c4f59c64594c",
    "tags": []
   },
   "outputs": [],
   "source": [
    "!pip install imbalanced-learn\n",
    "!pip install scikit-learn"
   ]
  },
  {
   "cell_type": "code",
   "execution_count": 0,
   "metadata": {
    "application/vnd.databricks.v1+cell": {
     "cellMetadata": {
      "byteLimit": 2048000,
      "rowLimit": 10000
     },
     "inputWidgets": {},
     "nuid": "64d449a4-2f04-4d10-9a00-4b27b3abd79f",
     "showTitle": false,
     "tableResultSettingsMap": {},
     "title": ""
    },
    "colab": {
     "base_uri": "https://localhost:8080/"
    },
    "executionInfo": {
     "elapsed": 85709,
     "status": "ok",
     "timestamp": 1731880985610,
     "user": {
      "displayName": "Alberto Bermea Trevino",
      "userId": "18219897344377314048"
     },
     "user_tz": 360
    },
    "id": "5bd4fca1-672c-4611-8c59-4722bb168ba5",
    "outputId": "83770bcd-9baf-4131-9133-3673440c1b72",
    "tags": []
   },
   "outputs": [],
   "source": [
    "from imblearn.under_sampling import NearMiss\n",
    "\n",
    "X = df.drop('Diabetes_binary', axis=1)\n",
    "y = df['Diabetes_binary']\n",
    "\n",
    "nm = NearMiss()\n",
    "X_res, y_res = nm.fit_resample(X, y)\n",
    "\n",
    "print(\"Before Under-Sampling, Diabetes '1': {}\".format(sum(y == 1)))\n",
    "print(\"Before Under-Sampling, Diabetes '0': {}\".format(sum(y == 0)))\n",
    "\n",
    "print(\"After Under-Sampling, Diabetes '1': {}\".format(sum(y_res == 1)))\n",
    "print(\"After Under-Sampling, Diabetes '0': {}\".format(sum(y_res == 0)))"
   ]
  },
  {
   "cell_type": "code",
   "execution_count": 0,
   "metadata": {
    "application/vnd.databricks.v1+cell": {
     "cellMetadata": {
      "byteLimit": 2048000,
      "rowLimit": 10000
     },
     "inputWidgets": {},
     "nuid": "19f123b7-aead-45e5-92c8-3421b2fe6d13",
     "showTitle": false,
     "tableResultSettingsMap": {},
     "title": ""
    },
    "executionInfo": {
     "elapsed": 2000,
     "status": "ok",
     "timestamp": 1731880987604,
     "user": {
      "displayName": "Alberto Bermea Trevino",
      "userId": "18219897344377314048"
     },
     "user_tz": 360
    },
    "id": "yDSLIhJP3FDK"
   },
   "outputs": [],
   "source": [
    "X_res.to_csv('diabetes_X.csv')\n",
    "y_res.to_csv('diabetes_y.csv')"
   ]
  },
  {
   "cell_type": "code",
   "execution_count": 0,
   "metadata": {
    "application/vnd.databricks.v1+cell": {
     "cellMetadata": {
      "byteLimit": 2048000,
      "rowLimit": 10000
     },
     "inputWidgets": {},
     "nuid": "25192a42-1abd-416d-8441-36fd1a5d6a0f",
     "showTitle": false,
     "tableResultSettingsMap": {},
     "title": ""
    },
    "colab": {
     "base_uri": "https://localhost:8080/",
     "height": 177
    },
    "executionInfo": {
     "elapsed": 159,
     "status": "ok",
     "timestamp": 1731880992296,
     "user": {
      "displayName": "Alberto Bermea Trevino",
      "userId": "18219897344377314048"
     },
     "user_tz": 360
    },
    "id": "49aKuoIjI9gF",
    "outputId": "0a24a234-7881-4782-bb10-ed68417be426"
   },
   "outputs": [],
   "source": [
    "resampled_df = pd.DataFrame(X_res, columns=X.columns)\n",
    "resampled_df['Diabetes_binary'] = y_res\n",
    "\n",
    "print('Shape: ',resampled_df.shape)\n",
    "resampled_df.head(2)"
   ]
  },
  {
   "cell_type": "code",
   "execution_count": 0,
   "metadata": {
    "application/vnd.databricks.v1+cell": {
     "cellMetadata": {
      "byteLimit": 2048000,
      "rowLimit": 10000
     },
     "inputWidgets": {},
     "nuid": "1a49cd2a-4ebe-472d-a03c-f29b72d8f87d",
     "showTitle": false,
     "tableResultSettingsMap": {},
     "title": ""
    },
    "executionInfo": {
     "elapsed": 2805,
     "status": "ok",
     "timestamp": 1731881001081,
     "user": {
      "displayName": "Alberto Bermea Trevino",
      "userId": "18219897344377314048"
     },
     "user_tz": 360
    },
    "id": "IG-ksvYwJetK"
   },
   "outputs": [],
   "source": [
    "resampled_df.to_csv('diabetes_r.csv') # this upload files into the same folder\n",
    "resampled_df.to_csv('/dbfs/FileStore/tables/diabetes_r.csv') # this upload into dbfs (databricks file system) to be used in automl"
   ]
  }
 ],
 "metadata": {
  "application/vnd.databricks.v1+notebook": {
   "computePreferences": null,
   "dashboards": [],
   "environmentMetadata": null,
   "language": "python",
   "notebookMetadata": {
    "pythonIndentUnit": 4
   },
   "notebookName": "EDA",
   "widgets": {}
  },
  "colab": {
   "provenance": []
  },
  "kernelspec": {
   "display_name": "Python 3 (ipykernel)",
   "language": "python",
   "name": "python3"
  },
  "language_info": {
   "name": "python"
  }
 },
 "nbformat": 4,
 "nbformat_minor": 0
}
